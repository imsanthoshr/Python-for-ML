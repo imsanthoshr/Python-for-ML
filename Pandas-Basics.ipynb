{
 "cells": [
  {
   "cell_type": "code",
   "execution_count": 1,
   "metadata": {},
   "outputs": [],
   "source": [
    "import pandas as pd\n",
    "import numpy as np"
   ]
  },
  {
   "cell_type": "code",
   "execution_count": 6,
   "metadata": {},
   "outputs": [
    {
     "output_type": "stream",
     "name": "stdout",
     "text": "[ 5  4 33 12 76]\n"
    }
   ],
   "source": [
    "mylist = [5,4,33,12,76]\n",
    "myarray = np.array(mylist)\n",
    "print(myarray)"
   ]
  },
  {
   "cell_type": "code",
   "execution_count": 7,
   "metadata": {},
   "outputs": [
    {
     "output_type": "stream",
     "name": "stdout",
     "text": "0     5\n1     4\n2    33\n3    12\n4    76\ndtype: int64\n0     5\n1     4\n2    33\n3    12\n4    76\ndtype: int32\n"
    }
   ],
   "source": [
    "myseries1 = pd.Series(data=mylist)\n",
    "print(myseries1)\n",
    "myseries2 = pd.Series(data=myarray)\n",
    "print(myseries2)"
   ]
  },
  {
   "cell_type": "code",
   "execution_count": 5,
   "metadata": {},
   "outputs": [
    {
     "output_type": "stream",
     "name": "stdout",
     "text": "3\n"
    }
   ],
   "source": [
    "print(myseries1[2])"
   ]
  },
  {
   "cell_type": "code",
   "execution_count": 8,
   "metadata": {},
   "outputs": [
    {
     "output_type": "stream",
     "name": "stdout",
     "text": "1th     5\n2th     4\n3th    33\n4th    12\n5th    76\ndtype: int64\n"
    }
   ],
   "source": [
    "mylables = ['1th','2th','3th','4th','5th']\n",
    "myseries3 = pd.Series(data=mylist,index=mylables)\n",
    "print(myseries3)"
   ]
  },
  {
   "cell_type": "code",
   "execution_count": 9,
   "metadata": {},
   "outputs": [
    {
     "output_type": "stream",
     "name": "stdout",
     "text": "33\n"
    }
   ],
   "source": [
    "print(myseries3['3th'])"
   ]
  },
  {
   "cell_type": "code",
   "execution_count": 10,
   "metadata": {},
   "outputs": [
    {
     "output_type": "stream",
     "name": "stdout",
     "text": "1th    2\n3th    3\n4th    4\n6th    1\n7th    6\ndtype: int64\n\n1th     7.0\n2th     NaN\n3th    36.0\n4th    16.0\n5th     NaN\n6th     NaN\n7th     NaN\ndtype: float64\n"
    }
   ],
   "source": [
    "myseries4 = pd.Series([2,3,4,1,6],['1th','3th','4th','6th','7th'])\n",
    "print(myseries4)\n",
    "print('')\n",
    "print(myseries3+myseries4)"
   ]
  },
  {
   "cell_type": "code",
   "execution_count": 16,
   "metadata": {},
   "outputs": [
    {
     "output_type": "execute_result",
     "data": {
      "text/plain": "        0    1\n1th   5.0  2.0\n2th   4.0  NaN\n3th  33.0  3.0\n4th  12.0  4.0\n5th  76.0  NaN\n6th   NaN  1.0\n7th   NaN  6.0",
      "text/html": "<div>\n<style scoped>\n    .dataframe tbody tr th:only-of-type {\n        vertical-align: middle;\n    }\n\n    .dataframe tbody tr th {\n        vertical-align: top;\n    }\n\n    .dataframe thead th {\n        text-align: right;\n    }\n</style>\n<table border=\"1\" class=\"dataframe\">\n  <thead>\n    <tr style=\"text-align: right;\">\n      <th></th>\n      <th>0</th>\n      <th>1</th>\n    </tr>\n  </thead>\n  <tbody>\n    <tr>\n      <th>1th</th>\n      <td>5.0</td>\n      <td>2.0</td>\n    </tr>\n    <tr>\n      <th>2th</th>\n      <td>4.0</td>\n      <td>NaN</td>\n    </tr>\n    <tr>\n      <th>3th</th>\n      <td>33.0</td>\n      <td>3.0</td>\n    </tr>\n    <tr>\n      <th>4th</th>\n      <td>12.0</td>\n      <td>4.0</td>\n    </tr>\n    <tr>\n      <th>5th</th>\n      <td>76.0</td>\n      <td>NaN</td>\n    </tr>\n    <tr>\n      <th>6th</th>\n      <td>NaN</td>\n      <td>1.0</td>\n    </tr>\n    <tr>\n      <th>7th</th>\n      <td>NaN</td>\n      <td>6.0</td>\n    </tr>\n  </tbody>\n</table>\n</div>"
     },
     "metadata": {},
     "execution_count": 16
    }
   ],
   "source": [
    "df1 = pd.concat([myseries3,myseries4],axis=1,sort=True)\n",
    "df1"
   ]
  },
  {
   "cell_type": "code",
   "execution_count": 18,
   "metadata": {},
   "outputs": [
    {
     "output_type": "execute_result",
     "data": {
      "text/plain": "          1th col   2th col   3th col   4th col   5th col\n1th row  0.847794 -0.516739  0.250755 -0.210721 -0.582605\n2th row  0.145061  1.774708  0.780958  0.996805  0.780980\n3th row  0.662552 -0.147782 -0.053733 -0.932024  0.713458\n4th row -1.033275  0.667603  0.286494 -0.132871  0.801185\n5th row  0.302512  1.700104 -2.118665  1.304873 -0.905316",
      "text/html": "<div>\n<style scoped>\n    .dataframe tbody tr th:only-of-type {\n        vertical-align: middle;\n    }\n\n    .dataframe tbody tr th {\n        vertical-align: top;\n    }\n\n    .dataframe thead th {\n        text-align: right;\n    }\n</style>\n<table border=\"1\" class=\"dataframe\">\n  <thead>\n    <tr style=\"text-align: right;\">\n      <th></th>\n      <th>1th col</th>\n      <th>2th col</th>\n      <th>3th col</th>\n      <th>4th col</th>\n      <th>5th col</th>\n    </tr>\n  </thead>\n  <tbody>\n    <tr>\n      <th>1th row</th>\n      <td>0.847794</td>\n      <td>-0.516739</td>\n      <td>0.250755</td>\n      <td>-0.210721</td>\n      <td>-0.582605</td>\n    </tr>\n    <tr>\n      <th>2th row</th>\n      <td>0.145061</td>\n      <td>1.774708</td>\n      <td>0.780958</td>\n      <td>0.996805</td>\n      <td>0.780980</td>\n    </tr>\n    <tr>\n      <th>3th row</th>\n      <td>0.662552</td>\n      <td>-0.147782</td>\n      <td>-0.053733</td>\n      <td>-0.932024</td>\n      <td>0.713458</td>\n    </tr>\n    <tr>\n      <th>4th row</th>\n      <td>-1.033275</td>\n      <td>0.667603</td>\n      <td>0.286494</td>\n      <td>-0.132871</td>\n      <td>0.801185</td>\n    </tr>\n    <tr>\n      <th>5th row</th>\n      <td>0.302512</td>\n      <td>1.700104</td>\n      <td>-2.118665</td>\n      <td>1.304873</td>\n      <td>-0.905316</td>\n    </tr>\n  </tbody>\n</table>\n</div>"
     },
     "metadata": {},
     "execution_count": 18
    }
   ],
   "source": [
    "df2 = pd.DataFrame(np.random.randn(5,5),index=['1th row','2th row','3th row','4th row','5th row'],columns=['1th col','2th col','3th col','4th col','5th col'])\n",
    "df2"
   ]
  },
  {
   "cell_type": "code",
   "execution_count": null,
   "metadata": {},
   "outputs": [],
   "source": []
  }
 ],
 "metadata": {
  "language_info": {
   "codemirror_mode": {
    "name": "ipython",
    "version": 3
   },
   "file_extension": ".py",
   "mimetype": "text/x-python",
   "name": "python",
   "nbconvert_exporter": "python",
   "pygments_lexer": "ipython3",
   "version": "3.7.7-final"
  },
  "orig_nbformat": 2,
  "kernelspec": {
   "name": "python37464bitbaseconda033f0f3c5f3746edbc02791a490482bd",
   "display_name": "Python 3.7.4 64-bit ('base': conda)"
  }
 },
 "nbformat": 4,
 "nbformat_minor": 2
}