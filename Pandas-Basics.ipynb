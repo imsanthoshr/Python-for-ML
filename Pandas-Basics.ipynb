{
 "cells": [
  {
   "cell_type": "code",
   "execution_count": 1,
   "metadata": {},
   "outputs": [],
   "source": [
    "import pandas as pd\n",
    "import numpy as np"
   ]
  },
  {
   "cell_type": "code",
   "execution_count": 6,
   "metadata": {},
   "outputs": [
    {
     "output_type": "stream",
     "name": "stdout",
     "text": "[ 5  4 33 12 76]\n"
    }
   ],
   "source": [
    "mylist = [5,4,33,12,76]\n",
    "myarray = np.array(mylist)\n",
    "print(myarray)"
   ]
  },
  {
   "cell_type": "code",
   "execution_count": 7,
   "metadata": {},
   "outputs": [
    {
     "output_type": "stream",
     "name": "stdout",
     "text": "0     5\n1     4\n2    33\n3    12\n4    76\ndtype: int64\n0     5\n1     4\n2    33\n3    12\n4    76\ndtype: int32\n"
    }
   ],
   "source": [
    "myseries1 = pd.Series(data=mylist)\n",
    "print(myseries1)\n",
    "myseries2 = pd.Series(data=myarray)\n",
    "print(myseries2)"
   ]
  },
  {
   "cell_type": "code",
   "execution_count": 5,
   "metadata": {},
   "outputs": [
    {
     "output_type": "stream",
     "name": "stdout",
     "text": "3\n"
    }
   ],
   "source": [
    "print(myseries1[2])"
   ]
  },
  {
   "cell_type": "code",
   "execution_count": 8,
   "metadata": {},
   "outputs": [
    {
     "output_type": "stream",
     "name": "stdout",
     "text": "1th     5\n2th     4\n3th    33\n4th    12\n5th    76\ndtype: int64\n"
    }
   ],
   "source": [
    "mylables = ['1th','2th','3th','4th','5th']\n",
    "myseries3 = pd.Series(data=mylist,index=mylables)\n",
    "print(myseries3)"
   ]
  },
  {
   "cell_type": "code",
   "execution_count": 9,
   "metadata": {},
   "outputs": [
    {
     "output_type": "stream",
     "name": "stdout",
     "text": "33\n"
    }
   ],
   "source": [
    "print(myseries3['3th'])"
   ]
  },
  {
   "cell_type": "code",
   "execution_count": 10,
   "metadata": {},
   "outputs": [
    {
     "output_type": "stream",
     "name": "stdout",
     "text": "1th    2\n3th    3\n4th    4\n6th    1\n7th    6\ndtype: int64\n\n1th     7.0\n2th     NaN\n3th    36.0\n4th    16.0\n5th     NaN\n6th     NaN\n7th     NaN\ndtype: float64\n"
    }
   ],
   "source": [
    "myseries4 = pd.Series([2,3,4,1,6],['1th','3th','4th','6th','7th'])\n",
    "print(myseries4)\n",
    "print('')\n",
    "print(myseries3+myseries4)"
   ]
  },
  {
   "cell_type": "code",
   "execution_count": 16,
   "metadata": {},
   "outputs": [
    {
     "output_type": "execute_result",
     "data": {
      "text/plain": "        0    1\n1th   5.0  2.0\n2th   4.0  NaN\n3th  33.0  3.0\n4th  12.0  4.0\n5th  76.0  NaN\n6th   NaN  1.0\n7th   NaN  6.0",
      "text/html": "<div>\n<style scoped>\n    .dataframe tbody tr th:only-of-type {\n        vertical-align: middle;\n    }\n\n    .dataframe tbody tr th {\n        vertical-align: top;\n    }\n\n    .dataframe thead th {\n        text-align: right;\n    }\n</style>\n<table border=\"1\" class=\"dataframe\">\n  <thead>\n    <tr style=\"text-align: right;\">\n      <th></th>\n      <th>0</th>\n      <th>1</th>\n    </tr>\n  </thead>\n  <tbody>\n    <tr>\n      <th>1th</th>\n      <td>5.0</td>\n      <td>2.0</td>\n    </tr>\n    <tr>\n      <th>2th</th>\n      <td>4.0</td>\n      <td>NaN</td>\n    </tr>\n    <tr>\n      <th>3th</th>\n      <td>33.0</td>\n      <td>3.0</td>\n    </tr>\n    <tr>\n      <th>4th</th>\n      <td>12.0</td>\n      <td>4.0</td>\n    </tr>\n    <tr>\n      <th>5th</th>\n      <td>76.0</td>\n      <td>NaN</td>\n    </tr>\n    <tr>\n      <th>6th</th>\n      <td>NaN</td>\n      <td>1.0</td>\n    </tr>\n    <tr>\n      <th>7th</th>\n      <td>NaN</td>\n      <td>6.0</td>\n    </tr>\n  </tbody>\n</table>\n</div>"
     },
     "metadata": {},
     "execution_count": 16
    }
   ],
   "source": [
    "df1 = pd.concat([myseries3,myseries4],axis=1,sort=True)\n",
    "df1"
   ]
  },
  {
   "cell_type": "markdown",
   "metadata": {},
   "source": [
    "# Modifying a DataFrame"
   ]
  },
  {
   "cell_type": "code",
   "execution_count": 18,
   "metadata": {},
   "outputs": [
    {
     "output_type": "execute_result",
     "data": {
      "text/plain": "          1th col   2th col   3th col   4th col   5th col\n1th row  0.847794 -0.516739  0.250755 -0.210721 -0.582605\n2th row  0.145061  1.774708  0.780958  0.996805  0.780980\n3th row  0.662552 -0.147782 -0.053733 -0.932024  0.713458\n4th row -1.033275  0.667603  0.286494 -0.132871  0.801185\n5th row  0.302512  1.700104 -2.118665  1.304873 -0.905316",
      "text/html": "<div>\n<style scoped>\n    .dataframe tbody tr th:only-of-type {\n        vertical-align: middle;\n    }\n\n    .dataframe tbody tr th {\n        vertical-align: top;\n    }\n\n    .dataframe thead th {\n        text-align: right;\n    }\n</style>\n<table border=\"1\" class=\"dataframe\">\n  <thead>\n    <tr style=\"text-align: right;\">\n      <th></th>\n      <th>1th col</th>\n      <th>2th col</th>\n      <th>3th col</th>\n      <th>4th col</th>\n      <th>5th col</th>\n    </tr>\n  </thead>\n  <tbody>\n    <tr>\n      <th>1th row</th>\n      <td>0.847794</td>\n      <td>-0.516739</td>\n      <td>0.250755</td>\n      <td>-0.210721</td>\n      <td>-0.582605</td>\n    </tr>\n    <tr>\n      <th>2th row</th>\n      <td>0.145061</td>\n      <td>1.774708</td>\n      <td>0.780958</td>\n      <td>0.996805</td>\n      <td>0.780980</td>\n    </tr>\n    <tr>\n      <th>3th row</th>\n      <td>0.662552</td>\n      <td>-0.147782</td>\n      <td>-0.053733</td>\n      <td>-0.932024</td>\n      <td>0.713458</td>\n    </tr>\n    <tr>\n      <th>4th row</th>\n      <td>-1.033275</td>\n      <td>0.667603</td>\n      <td>0.286494</td>\n      <td>-0.132871</td>\n      <td>0.801185</td>\n    </tr>\n    <tr>\n      <th>5th row</th>\n      <td>0.302512</td>\n      <td>1.700104</td>\n      <td>-2.118665</td>\n      <td>1.304873</td>\n      <td>-0.905316</td>\n    </tr>\n  </tbody>\n</table>\n</div>"
     },
     "metadata": {},
     "execution_count": 18
    }
   ],
   "source": [
    "df2 = pd.DataFrame(np.random.randn(5,5),index=['1th row','2th row','3th row','4th row','5th row'],columns=['1th col','2th col','3th col','4th col','5th col'])\n",
    "df2"
   ]
  },
  {
   "cell_type": "code",
   "execution_count": 22,
   "metadata": {},
   "outputs": [
    {
     "output_type": "execute_result",
     "data": {
      "text/plain": "          2th col   5th col\n1th row -0.516739 -0.582605\n2th row  1.774708  0.780980\n3th row -0.147782  0.713458\n4th row  0.667603  0.801185\n5th row  1.700104 -0.905316",
      "text/html": "<div>\n<style scoped>\n    .dataframe tbody tr th:only-of-type {\n        vertical-align: middle;\n    }\n\n    .dataframe tbody tr th {\n        vertical-align: top;\n    }\n\n    .dataframe thead th {\n        text-align: right;\n    }\n</style>\n<table border=\"1\" class=\"dataframe\">\n  <thead>\n    <tr style=\"text-align: right;\">\n      <th></th>\n      <th>2th col</th>\n      <th>5th col</th>\n    </tr>\n  </thead>\n  <tbody>\n    <tr>\n      <th>1th row</th>\n      <td>-0.516739</td>\n      <td>-0.582605</td>\n    </tr>\n    <tr>\n      <th>2th row</th>\n      <td>1.774708</td>\n      <td>0.780980</td>\n    </tr>\n    <tr>\n      <th>3th row</th>\n      <td>-0.147782</td>\n      <td>0.713458</td>\n    </tr>\n    <tr>\n      <th>4th row</th>\n      <td>0.667603</td>\n      <td>0.801185</td>\n    </tr>\n    <tr>\n      <th>5th row</th>\n      <td>1.700104</td>\n      <td>-0.905316</td>\n    </tr>\n  </tbody>\n</table>\n</div>"
     },
     "metadata": {},
     "execution_count": 22
    }
   ],
   "source": [
    "df2[['2th col','5th col']]"
   ]
  },
  {
   "cell_type": "code",
   "execution_count": 25,
   "metadata": {},
   "outputs": [
    {
     "output_type": "execute_result",
     "data": {
      "text/plain": "          1th col   3th col\n2th row  0.145061  0.780958\n4th row -1.033275  0.286494",
      "text/html": "<div>\n<style scoped>\n    .dataframe tbody tr th:only-of-type {\n        vertical-align: middle;\n    }\n\n    .dataframe tbody tr th {\n        vertical-align: top;\n    }\n\n    .dataframe thead th {\n        text-align: right;\n    }\n</style>\n<table border=\"1\" class=\"dataframe\">\n  <thead>\n    <tr style=\"text-align: right;\">\n      <th></th>\n      <th>1th col</th>\n      <th>3th col</th>\n    </tr>\n  </thead>\n  <tbody>\n    <tr>\n      <th>2th row</th>\n      <td>0.145061</td>\n      <td>0.780958</td>\n    </tr>\n    <tr>\n      <th>4th row</th>\n      <td>-1.033275</td>\n      <td>0.286494</td>\n    </tr>\n  </tbody>\n</table>\n</div>"
     },
     "metadata": {},
     "execution_count": 25
    }
   ],
   "source": [
    "df2.loc[['2th row' ,'4th row'],['1th col','3th col']]"
   ]
  },
  {
   "cell_type": "code",
   "execution_count": 26,
   "metadata": {},
   "outputs": [
    {
     "output_type": "execute_result",
     "data": {
      "text/plain": "         1th col  2th col  3th col  4th col  5th col\n1th row     True    False     True    False    False\n2th row     True     True     True     True     True\n3th row     True    False    False    False     True\n4th row    False     True     True    False     True\n5th row     True     True    False     True    False",
      "text/html": "<div>\n<style scoped>\n    .dataframe tbody tr th:only-of-type {\n        vertical-align: middle;\n    }\n\n    .dataframe tbody tr th {\n        vertical-align: top;\n    }\n\n    .dataframe thead th {\n        text-align: right;\n    }\n</style>\n<table border=\"1\" class=\"dataframe\">\n  <thead>\n    <tr style=\"text-align: right;\">\n      <th></th>\n      <th>1th col</th>\n      <th>2th col</th>\n      <th>3th col</th>\n      <th>4th col</th>\n      <th>5th col</th>\n    </tr>\n  </thead>\n  <tbody>\n    <tr>\n      <th>1th row</th>\n      <td>True</td>\n      <td>False</td>\n      <td>True</td>\n      <td>False</td>\n      <td>False</td>\n    </tr>\n    <tr>\n      <th>2th row</th>\n      <td>True</td>\n      <td>True</td>\n      <td>True</td>\n      <td>True</td>\n      <td>True</td>\n    </tr>\n    <tr>\n      <th>3th row</th>\n      <td>True</td>\n      <td>False</td>\n      <td>False</td>\n      <td>False</td>\n      <td>True</td>\n    </tr>\n    <tr>\n      <th>4th row</th>\n      <td>False</td>\n      <td>True</td>\n      <td>True</td>\n      <td>False</td>\n      <td>True</td>\n    </tr>\n    <tr>\n      <th>5th row</th>\n      <td>True</td>\n      <td>True</td>\n      <td>False</td>\n      <td>True</td>\n      <td>False</td>\n    </tr>\n  </tbody>\n</table>\n</div>"
     },
     "metadata": {},
     "execution_count": 26
    }
   ],
   "source": [
    "df2>0"
   ]
  },
  {
   "cell_type": "code",
   "execution_count": 28,
   "metadata": {},
   "outputs": [
    {
     "output_type": "execute_result",
     "data": {
      "text/plain": "          1th col   2th col   3th col   4th col   5th col\n1th row  0.847794       NaN  0.250755       NaN       NaN\n2th row  0.145061  1.774708  0.780958  0.996805  0.780980\n3th row  0.662552       NaN       NaN       NaN  0.713458\n4th row       NaN  0.667603  0.286494       NaN  0.801185\n5th row  0.302512  1.700104       NaN  1.304873       NaN",
      "text/html": "<div>\n<style scoped>\n    .dataframe tbody tr th:only-of-type {\n        vertical-align: middle;\n    }\n\n    .dataframe tbody tr th {\n        vertical-align: top;\n    }\n\n    .dataframe thead th {\n        text-align: right;\n    }\n</style>\n<table border=\"1\" class=\"dataframe\">\n  <thead>\n    <tr style=\"text-align: right;\">\n      <th></th>\n      <th>1th col</th>\n      <th>2th col</th>\n      <th>3th col</th>\n      <th>4th col</th>\n      <th>5th col</th>\n    </tr>\n  </thead>\n  <tbody>\n    <tr>\n      <th>1th row</th>\n      <td>0.847794</td>\n      <td>NaN</td>\n      <td>0.250755</td>\n      <td>NaN</td>\n      <td>NaN</td>\n    </tr>\n    <tr>\n      <th>2th row</th>\n      <td>0.145061</td>\n      <td>1.774708</td>\n      <td>0.780958</td>\n      <td>0.996805</td>\n      <td>0.780980</td>\n    </tr>\n    <tr>\n      <th>3th row</th>\n      <td>0.662552</td>\n      <td>NaN</td>\n      <td>NaN</td>\n      <td>NaN</td>\n      <td>0.713458</td>\n    </tr>\n    <tr>\n      <th>4th row</th>\n      <td>NaN</td>\n      <td>0.667603</td>\n      <td>0.286494</td>\n      <td>NaN</td>\n      <td>0.801185</td>\n    </tr>\n    <tr>\n      <th>5th row</th>\n      <td>0.302512</td>\n      <td>1.700104</td>\n      <td>NaN</td>\n      <td>1.304873</td>\n      <td>NaN</td>\n    </tr>\n  </tbody>\n</table>\n</div>"
     },
     "metadata": {},
     "execution_count": 28
    }
   ],
   "source": [
    "df2[df2>0]"
   ]
  },
  {
   "cell_type": "code",
   "execution_count": 29,
   "metadata": {},
   "outputs": [
    {
     "output_type": "execute_result",
     "data": {
      "text/plain": "          1th col   2th col   3th col   4th col   5th col   6th col\n1th row  0.847794 -0.516739  0.250755 -0.210721 -0.582605 -0.388806\n2th row  0.145061  1.774708  0.780958  0.996805  0.780980 -1.829623\n3th row  0.662552 -0.147782 -0.053733 -0.932024  0.713458  1.218539\n4th row -1.033275  0.667603  0.286494 -0.132871  0.801185  0.297538\n5th row  0.302512  1.700104 -2.118665  1.304873 -0.905316 -0.319172",
      "text/html": "<div>\n<style scoped>\n    .dataframe tbody tr th:only-of-type {\n        vertical-align: middle;\n    }\n\n    .dataframe tbody tr th {\n        vertical-align: top;\n    }\n\n    .dataframe thead th {\n        text-align: right;\n    }\n</style>\n<table border=\"1\" class=\"dataframe\">\n  <thead>\n    <tr style=\"text-align: right;\">\n      <th></th>\n      <th>1th col</th>\n      <th>2th col</th>\n      <th>3th col</th>\n      <th>4th col</th>\n      <th>5th col</th>\n      <th>6th col</th>\n    </tr>\n  </thead>\n  <tbody>\n    <tr>\n      <th>1th row</th>\n      <td>0.847794</td>\n      <td>-0.516739</td>\n      <td>0.250755</td>\n      <td>-0.210721</td>\n      <td>-0.582605</td>\n      <td>-0.388806</td>\n    </tr>\n    <tr>\n      <th>2th row</th>\n      <td>0.145061</td>\n      <td>1.774708</td>\n      <td>0.780958</td>\n      <td>0.996805</td>\n      <td>0.780980</td>\n      <td>-1.829623</td>\n    </tr>\n    <tr>\n      <th>3th row</th>\n      <td>0.662552</td>\n      <td>-0.147782</td>\n      <td>-0.053733</td>\n      <td>-0.932024</td>\n      <td>0.713458</td>\n      <td>1.218539</td>\n    </tr>\n    <tr>\n      <th>4th row</th>\n      <td>-1.033275</td>\n      <td>0.667603</td>\n      <td>0.286494</td>\n      <td>-0.132871</td>\n      <td>0.801185</td>\n      <td>0.297538</td>\n    </tr>\n    <tr>\n      <th>5th row</th>\n      <td>0.302512</td>\n      <td>1.700104</td>\n      <td>-2.118665</td>\n      <td>1.304873</td>\n      <td>-0.905316</td>\n      <td>-0.319172</td>\n    </tr>\n  </tbody>\n</table>\n</div>"
     },
     "metadata": {},
     "execution_count": 29
    }
   ],
   "source": [
    "df2['6th col'] = np.random.randn(5,1)\n",
    "df2"
   ]
  },
  {
   "cell_type": "code",
   "execution_count": 30,
   "metadata": {},
   "outputs": [
    {
     "output_type": "execute_result",
     "data": {
      "text/plain": "          1th col   2th col   4th col   5th col   6th col\n1th row  0.847794 -0.516739 -0.210721 -0.582605 -0.388806\n2th row  0.145061  1.774708  0.996805  0.780980 -1.829623\n3th row  0.662552 -0.147782 -0.932024  0.713458  1.218539\n4th row -1.033275  0.667603 -0.132871  0.801185  0.297538\n5th row  0.302512  1.700104  1.304873 -0.905316 -0.319172",
      "text/html": "<div>\n<style scoped>\n    .dataframe tbody tr th:only-of-type {\n        vertical-align: middle;\n    }\n\n    .dataframe tbody tr th {\n        vertical-align: top;\n    }\n\n    .dataframe thead th {\n        text-align: right;\n    }\n</style>\n<table border=\"1\" class=\"dataframe\">\n  <thead>\n    <tr style=\"text-align: right;\">\n      <th></th>\n      <th>1th col</th>\n      <th>2th col</th>\n      <th>4th col</th>\n      <th>5th col</th>\n      <th>6th col</th>\n    </tr>\n  </thead>\n  <tbody>\n    <tr>\n      <th>1th row</th>\n      <td>0.847794</td>\n      <td>-0.516739</td>\n      <td>-0.210721</td>\n      <td>-0.582605</td>\n      <td>-0.388806</td>\n    </tr>\n    <tr>\n      <th>2th row</th>\n      <td>0.145061</td>\n      <td>1.774708</td>\n      <td>0.996805</td>\n      <td>0.780980</td>\n      <td>-1.829623</td>\n    </tr>\n    <tr>\n      <th>3th row</th>\n      <td>0.662552</td>\n      <td>-0.147782</td>\n      <td>-0.932024</td>\n      <td>0.713458</td>\n      <td>1.218539</td>\n    </tr>\n    <tr>\n      <th>4th row</th>\n      <td>-1.033275</td>\n      <td>0.667603</td>\n      <td>-0.132871</td>\n      <td>0.801185</td>\n      <td>0.297538</td>\n    </tr>\n    <tr>\n      <th>5th row</th>\n      <td>0.302512</td>\n      <td>1.700104</td>\n      <td>1.304873</td>\n      <td>-0.905316</td>\n      <td>-0.319172</td>\n    </tr>\n  </tbody>\n</table>\n</div>"
     },
     "metadata": {},
     "execution_count": 30
    }
   ],
   "source": [
    "df2.drop('3th col',axis=1)"
   ]
  },
  {
   "cell_type": "code",
   "execution_count": 31,
   "metadata": {},
   "outputs": [
    {
     "output_type": "execute_result",
     "data": {
      "text/plain": "          1th col   2th col   3th col   4th col   5th col   6th col\n1th row  0.847794 -0.516739  0.250755 -0.210721 -0.582605 -0.388806\n2th row  0.145061  1.774708  0.780958  0.996805  0.780980 -1.829623\n3th row  0.662552 -0.147782 -0.053733 -0.932024  0.713458  1.218539\n4th row -1.033275  0.667603  0.286494 -0.132871  0.801185  0.297538\n5th row  0.302512  1.700104 -2.118665  1.304873 -0.905316 -0.319172",
      "text/html": "<div>\n<style scoped>\n    .dataframe tbody tr th:only-of-type {\n        vertical-align: middle;\n    }\n\n    .dataframe tbody tr th {\n        vertical-align: top;\n    }\n\n    .dataframe thead th {\n        text-align: right;\n    }\n</style>\n<table border=\"1\" class=\"dataframe\">\n  <thead>\n    <tr style=\"text-align: right;\">\n      <th></th>\n      <th>1th col</th>\n      <th>2th col</th>\n      <th>3th col</th>\n      <th>4th col</th>\n      <th>5th col</th>\n      <th>6th col</th>\n    </tr>\n  </thead>\n  <tbody>\n    <tr>\n      <th>1th row</th>\n      <td>0.847794</td>\n      <td>-0.516739</td>\n      <td>0.250755</td>\n      <td>-0.210721</td>\n      <td>-0.582605</td>\n      <td>-0.388806</td>\n    </tr>\n    <tr>\n      <th>2th row</th>\n      <td>0.145061</td>\n      <td>1.774708</td>\n      <td>0.780958</td>\n      <td>0.996805</td>\n      <td>0.780980</td>\n      <td>-1.829623</td>\n    </tr>\n    <tr>\n      <th>3th row</th>\n      <td>0.662552</td>\n      <td>-0.147782</td>\n      <td>-0.053733</td>\n      <td>-0.932024</td>\n      <td>0.713458</td>\n      <td>1.218539</td>\n    </tr>\n    <tr>\n      <th>4th row</th>\n      <td>-1.033275</td>\n      <td>0.667603</td>\n      <td>0.286494</td>\n      <td>-0.132871</td>\n      <td>0.801185</td>\n      <td>0.297538</td>\n    </tr>\n    <tr>\n      <th>5th row</th>\n      <td>0.302512</td>\n      <td>1.700104</td>\n      <td>-2.118665</td>\n      <td>1.304873</td>\n      <td>-0.905316</td>\n      <td>-0.319172</td>\n    </tr>\n  </tbody>\n</table>\n</div>"
     },
     "metadata": {},
     "execution_count": 31
    }
   ],
   "source": [
    "df2"
   ]
  },
  {
   "cell_type": "code",
   "execution_count": 32,
   "metadata": {},
   "outputs": [
    {
     "output_type": "execute_result",
     "data": {
      "text/plain": "     index   1th col   2th col   3th col   4th col   5th col   6th col\n0  1th row  0.847794 -0.516739  0.250755 -0.210721 -0.582605 -0.388806\n1  2th row  0.145061  1.774708  0.780958  0.996805  0.780980 -1.829623\n2  3th row  0.662552 -0.147782 -0.053733 -0.932024  0.713458  1.218539\n3  4th row -1.033275  0.667603  0.286494 -0.132871  0.801185  0.297538\n4  5th row  0.302512  1.700104 -2.118665  1.304873 -0.905316 -0.319172",
      "text/html": "<div>\n<style scoped>\n    .dataframe tbody tr th:only-of-type {\n        vertical-align: middle;\n    }\n\n    .dataframe tbody tr th {\n        vertical-align: top;\n    }\n\n    .dataframe thead th {\n        text-align: right;\n    }\n</style>\n<table border=\"1\" class=\"dataframe\">\n  <thead>\n    <tr style=\"text-align: right;\">\n      <th></th>\n      <th>index</th>\n      <th>1th col</th>\n      <th>2th col</th>\n      <th>3th col</th>\n      <th>4th col</th>\n      <th>5th col</th>\n      <th>6th col</th>\n    </tr>\n  </thead>\n  <tbody>\n    <tr>\n      <th>0</th>\n      <td>1th row</td>\n      <td>0.847794</td>\n      <td>-0.516739</td>\n      <td>0.250755</td>\n      <td>-0.210721</td>\n      <td>-0.582605</td>\n      <td>-0.388806</td>\n    </tr>\n    <tr>\n      <th>1</th>\n      <td>2th row</td>\n      <td>0.145061</td>\n      <td>1.774708</td>\n      <td>0.780958</td>\n      <td>0.996805</td>\n      <td>0.780980</td>\n      <td>-1.829623</td>\n    </tr>\n    <tr>\n      <th>2</th>\n      <td>3th row</td>\n      <td>0.662552</td>\n      <td>-0.147782</td>\n      <td>-0.053733</td>\n      <td>-0.932024</td>\n      <td>0.713458</td>\n      <td>1.218539</td>\n    </tr>\n    <tr>\n      <th>3</th>\n      <td>4th row</td>\n      <td>-1.033275</td>\n      <td>0.667603</td>\n      <td>0.286494</td>\n      <td>-0.132871</td>\n      <td>0.801185</td>\n      <td>0.297538</td>\n    </tr>\n    <tr>\n      <th>4</th>\n      <td>5th row</td>\n      <td>0.302512</td>\n      <td>1.700104</td>\n      <td>-2.118665</td>\n      <td>1.304873</td>\n      <td>-0.905316</td>\n      <td>-0.319172</td>\n    </tr>\n  </tbody>\n</table>\n</div>"
     },
     "metadata": {},
     "execution_count": 32
    }
   ],
   "source": [
    " df2.reset_index()"
   ]
  },
  {
   "cell_type": "code",
   "execution_count": 33,
   "metadata": {},
   "outputs": [
    {
     "output_type": "execute_result",
     "data": {
      "text/plain": "          1th col   2th col   3th col   4th col   5th col   6th col\n1th row  0.847794 -0.516739  0.250755 -0.210721 -0.582605 -0.388806\n2th row  0.145061  1.774708  0.780958  0.996805  0.780980 -1.829623\n3th row  0.662552 -0.147782 -0.053733 -0.932024  0.713458  1.218539\n4th row -1.033275  0.667603  0.286494 -0.132871  0.801185  0.297538\n5th row  0.302512  1.700104 -2.118665  1.304873 -0.905316 -0.319172",
      "text/html": "<div>\n<style scoped>\n    .dataframe tbody tr th:only-of-type {\n        vertical-align: middle;\n    }\n\n    .dataframe tbody tr th {\n        vertical-align: top;\n    }\n\n    .dataframe thead th {\n        text-align: right;\n    }\n</style>\n<table border=\"1\" class=\"dataframe\">\n  <thead>\n    <tr style=\"text-align: right;\">\n      <th></th>\n      <th>1th col</th>\n      <th>2th col</th>\n      <th>3th col</th>\n      <th>4th col</th>\n      <th>5th col</th>\n      <th>6th col</th>\n    </tr>\n  </thead>\n  <tbody>\n    <tr>\n      <th>1th row</th>\n      <td>0.847794</td>\n      <td>-0.516739</td>\n      <td>0.250755</td>\n      <td>-0.210721</td>\n      <td>-0.582605</td>\n      <td>-0.388806</td>\n    </tr>\n    <tr>\n      <th>2th row</th>\n      <td>0.145061</td>\n      <td>1.774708</td>\n      <td>0.780958</td>\n      <td>0.996805</td>\n      <td>0.780980</td>\n      <td>-1.829623</td>\n    </tr>\n    <tr>\n      <th>3th row</th>\n      <td>0.662552</td>\n      <td>-0.147782</td>\n      <td>-0.053733</td>\n      <td>-0.932024</td>\n      <td>0.713458</td>\n      <td>1.218539</td>\n    </tr>\n    <tr>\n      <th>4th row</th>\n      <td>-1.033275</td>\n      <td>0.667603</td>\n      <td>0.286494</td>\n      <td>-0.132871</td>\n      <td>0.801185</td>\n      <td>0.297538</td>\n    </tr>\n    <tr>\n      <th>5th row</th>\n      <td>0.302512</td>\n      <td>1.700104</td>\n      <td>-2.118665</td>\n      <td>1.304873</td>\n      <td>-0.905316</td>\n      <td>-0.319172</td>\n    </tr>\n  </tbody>\n</table>\n</div>"
     },
     "metadata": {},
     "execution_count": 33
    }
   ],
   "source": [
    "df2"
   ]
  },
  {
   "cell_type": "code",
   "execution_count": 34,
   "metadata": {},
   "outputs": [
    {
     "output_type": "execute_result",
     "data": {
      "text/plain": "     index   1th col   2th col   3th col   4th col   5th col   6th col\n0  1th row  0.847794 -0.516739  0.250755 -0.210721 -0.582605 -0.388806\n1  2th row  0.145061  1.774708  0.780958  0.996805  0.780980 -1.829623\n2  3th row  0.662552 -0.147782 -0.053733 -0.932024  0.713458  1.218539\n3  4th row -1.033275  0.667603  0.286494 -0.132871  0.801185  0.297538\n4  5th row  0.302512  1.700104 -2.118665  1.304873 -0.905316 -0.319172",
      "text/html": "<div>\n<style scoped>\n    .dataframe tbody tr th:only-of-type {\n        vertical-align: middle;\n    }\n\n    .dataframe tbody tr th {\n        vertical-align: top;\n    }\n\n    .dataframe thead th {\n        text-align: right;\n    }\n</style>\n<table border=\"1\" class=\"dataframe\">\n  <thead>\n    <tr style=\"text-align: right;\">\n      <th></th>\n      <th>index</th>\n      <th>1th col</th>\n      <th>2th col</th>\n      <th>3th col</th>\n      <th>4th col</th>\n      <th>5th col</th>\n      <th>6th col</th>\n    </tr>\n  </thead>\n  <tbody>\n    <tr>\n      <th>0</th>\n      <td>1th row</td>\n      <td>0.847794</td>\n      <td>-0.516739</td>\n      <td>0.250755</td>\n      <td>-0.210721</td>\n      <td>-0.582605</td>\n      <td>-0.388806</td>\n    </tr>\n    <tr>\n      <th>1</th>\n      <td>2th row</td>\n      <td>0.145061</td>\n      <td>1.774708</td>\n      <td>0.780958</td>\n      <td>0.996805</td>\n      <td>0.780980</td>\n      <td>-1.829623</td>\n    </tr>\n    <tr>\n      <th>2</th>\n      <td>3th row</td>\n      <td>0.662552</td>\n      <td>-0.147782</td>\n      <td>-0.053733</td>\n      <td>-0.932024</td>\n      <td>0.713458</td>\n      <td>1.218539</td>\n    </tr>\n    <tr>\n      <th>3</th>\n      <td>4th row</td>\n      <td>-1.033275</td>\n      <td>0.667603</td>\n      <td>0.286494</td>\n      <td>-0.132871</td>\n      <td>0.801185</td>\n      <td>0.297538</td>\n    </tr>\n    <tr>\n      <th>4</th>\n      <td>5th row</td>\n      <td>0.302512</td>\n      <td>1.700104</td>\n      <td>-2.118665</td>\n      <td>1.304873</td>\n      <td>-0.905316</td>\n      <td>-0.319172</td>\n    </tr>\n  </tbody>\n</table>\n</div>"
     },
     "metadata": {},
     "execution_count": 34
    }
   ],
   "source": [
    "df2.reset_index(inplace=True)\n",
    "df2"
   ]
  },
  {
   "cell_type": "code",
   "execution_count": 35,
   "metadata": {},
   "outputs": [
    {
     "output_type": "execute_result",
     "data": {
      "text/plain": "     index   1th col   2th col   3th col   4th col   5th col   6th col\n0  1th row  0.847794 -0.516739  0.250755 -0.210721 -0.582605 -0.388806\n1  2th row  0.145061  1.774708  0.780958  0.996805  0.780980 -1.829623\n2  3th row  0.662552 -0.147782 -0.053733 -0.932024  0.713458  1.218539\n3  4th row -1.033275  0.667603  0.286494 -0.132871  0.801185  0.297538\n4  5th row  0.302512  1.700104 -2.118665  1.304873 -0.905316 -0.319172",
      "text/html": "<div>\n<style scoped>\n    .dataframe tbody tr th:only-of-type {\n        vertical-align: middle;\n    }\n\n    .dataframe tbody tr th {\n        vertical-align: top;\n    }\n\n    .dataframe thead th {\n        text-align: right;\n    }\n</style>\n<table border=\"1\" class=\"dataframe\">\n  <thead>\n    <tr style=\"text-align: right;\">\n      <th></th>\n      <th>index</th>\n      <th>1th col</th>\n      <th>2th col</th>\n      <th>3th col</th>\n      <th>4th col</th>\n      <th>5th col</th>\n      <th>6th col</th>\n    </tr>\n  </thead>\n  <tbody>\n    <tr>\n      <th>0</th>\n      <td>1th row</td>\n      <td>0.847794</td>\n      <td>-0.516739</td>\n      <td>0.250755</td>\n      <td>-0.210721</td>\n      <td>-0.582605</td>\n      <td>-0.388806</td>\n    </tr>\n    <tr>\n      <th>1</th>\n      <td>2th row</td>\n      <td>0.145061</td>\n      <td>1.774708</td>\n      <td>0.780958</td>\n      <td>0.996805</td>\n      <td>0.780980</td>\n      <td>-1.829623</td>\n    </tr>\n    <tr>\n      <th>2</th>\n      <td>3th row</td>\n      <td>0.662552</td>\n      <td>-0.147782</td>\n      <td>-0.053733</td>\n      <td>-0.932024</td>\n      <td>0.713458</td>\n      <td>1.218539</td>\n    </tr>\n    <tr>\n      <th>3</th>\n      <td>4th row</td>\n      <td>-1.033275</td>\n      <td>0.667603</td>\n      <td>0.286494</td>\n      <td>-0.132871</td>\n      <td>0.801185</td>\n      <td>0.297538</td>\n    </tr>\n    <tr>\n      <th>4</th>\n      <td>5th row</td>\n      <td>0.302512</td>\n      <td>1.700104</td>\n      <td>-2.118665</td>\n      <td>1.304873</td>\n      <td>-0.905316</td>\n      <td>-0.319172</td>\n    </tr>\n  </tbody>\n</table>\n</div>"
     },
     "metadata": {},
     "execution_count": 35
    }
   ],
   "source": [
    "df2"
   ]
  },
  {
   "cell_type": "code",
   "execution_count": 36,
   "metadata": {},
   "outputs": [
    {
     "output_type": "execute_result",
     "data": {
      "text/plain": "     index   1th col   2th col   3th col   4th col   5th col   6th col S/no\n0  1th row  0.847794 -0.516739  0.250755 -0.210721 -0.582605 -0.388806    #\n1  2th row  0.145061  1.774708  0.780958  0.996805  0.780980 -1.829623    #\n2  3th row  0.662552 -0.147782 -0.053733 -0.932024  0.713458  1.218539    #\n3  4th row -1.033275  0.667603  0.286494 -0.132871  0.801185  0.297538    #\n4  5th row  0.302512  1.700104 -2.118665  1.304873 -0.905316 -0.319172    #",
      "text/html": "<div>\n<style scoped>\n    .dataframe tbody tr th:only-of-type {\n        vertical-align: middle;\n    }\n\n    .dataframe tbody tr th {\n        vertical-align: top;\n    }\n\n    .dataframe thead th {\n        text-align: right;\n    }\n</style>\n<table border=\"1\" class=\"dataframe\">\n  <thead>\n    <tr style=\"text-align: right;\">\n      <th></th>\n      <th>index</th>\n      <th>1th col</th>\n      <th>2th col</th>\n      <th>3th col</th>\n      <th>4th col</th>\n      <th>5th col</th>\n      <th>6th col</th>\n      <th>S/no</th>\n    </tr>\n  </thead>\n  <tbody>\n    <tr>\n      <th>0</th>\n      <td>1th row</td>\n      <td>0.847794</td>\n      <td>-0.516739</td>\n      <td>0.250755</td>\n      <td>-0.210721</td>\n      <td>-0.582605</td>\n      <td>-0.388806</td>\n      <td>#</td>\n    </tr>\n    <tr>\n      <th>1</th>\n      <td>2th row</td>\n      <td>0.145061</td>\n      <td>1.774708</td>\n      <td>0.780958</td>\n      <td>0.996805</td>\n      <td>0.780980</td>\n      <td>-1.829623</td>\n      <td>#</td>\n    </tr>\n    <tr>\n      <th>2</th>\n      <td>3th row</td>\n      <td>0.662552</td>\n      <td>-0.147782</td>\n      <td>-0.053733</td>\n      <td>-0.932024</td>\n      <td>0.713458</td>\n      <td>1.218539</td>\n      <td>#</td>\n    </tr>\n    <tr>\n      <th>3</th>\n      <td>4th row</td>\n      <td>-1.033275</td>\n      <td>0.667603</td>\n      <td>0.286494</td>\n      <td>-0.132871</td>\n      <td>0.801185</td>\n      <td>0.297538</td>\n      <td>#</td>\n    </tr>\n    <tr>\n      <th>4</th>\n      <td>5th row</td>\n      <td>0.302512</td>\n      <td>1.700104</td>\n      <td>-2.118665</td>\n      <td>1.304873</td>\n      <td>-0.905316</td>\n      <td>-0.319172</td>\n      <td>#</td>\n    </tr>\n  </tbody>\n</table>\n</div>"
     },
     "metadata": {},
     "execution_count": 36
    }
   ],
   "source": [
    "df2['S/no']=['#','#','#','#','#']\n",
    "df2"
   ]
  },
  {
   "cell_type": "code",
   "execution_count": 37,
   "metadata": {},
   "outputs": [
    {
     "output_type": "execute_result",
     "data": {
      "text/plain": "        index   1th col   2th col   3th col   4th col   5th col   6th col\nS/no                                                                     \n#     1th row  0.847794 -0.516739  0.250755 -0.210721 -0.582605 -0.388806\n#     2th row  0.145061  1.774708  0.780958  0.996805  0.780980 -1.829623\n#     3th row  0.662552 -0.147782 -0.053733 -0.932024  0.713458  1.218539\n#     4th row -1.033275  0.667603  0.286494 -0.132871  0.801185  0.297538\n#     5th row  0.302512  1.700104 -2.118665  1.304873 -0.905316 -0.319172",
      "text/html": "<div>\n<style scoped>\n    .dataframe tbody tr th:only-of-type {\n        vertical-align: middle;\n    }\n\n    .dataframe tbody tr th {\n        vertical-align: top;\n    }\n\n    .dataframe thead th {\n        text-align: right;\n    }\n</style>\n<table border=\"1\" class=\"dataframe\">\n  <thead>\n    <tr style=\"text-align: right;\">\n      <th></th>\n      <th>index</th>\n      <th>1th col</th>\n      <th>2th col</th>\n      <th>3th col</th>\n      <th>4th col</th>\n      <th>5th col</th>\n      <th>6th col</th>\n    </tr>\n    <tr>\n      <th>S/no</th>\n      <th></th>\n      <th></th>\n      <th></th>\n      <th></th>\n      <th></th>\n      <th></th>\n      <th></th>\n    </tr>\n  </thead>\n  <tbody>\n    <tr>\n      <th>#</th>\n      <td>1th row</td>\n      <td>0.847794</td>\n      <td>-0.516739</td>\n      <td>0.250755</td>\n      <td>-0.210721</td>\n      <td>-0.582605</td>\n      <td>-0.388806</td>\n    </tr>\n    <tr>\n      <th>#</th>\n      <td>2th row</td>\n      <td>0.145061</td>\n      <td>1.774708</td>\n      <td>0.780958</td>\n      <td>0.996805</td>\n      <td>0.780980</td>\n      <td>-1.829623</td>\n    </tr>\n    <tr>\n      <th>#</th>\n      <td>3th row</td>\n      <td>0.662552</td>\n      <td>-0.147782</td>\n      <td>-0.053733</td>\n      <td>-0.932024</td>\n      <td>0.713458</td>\n      <td>1.218539</td>\n    </tr>\n    <tr>\n      <th>#</th>\n      <td>4th row</td>\n      <td>-1.033275</td>\n      <td>0.667603</td>\n      <td>0.286494</td>\n      <td>-0.132871</td>\n      <td>0.801185</td>\n      <td>0.297538</td>\n    </tr>\n    <tr>\n      <th>#</th>\n      <td>5th row</td>\n      <td>0.302512</td>\n      <td>1.700104</td>\n      <td>-2.118665</td>\n      <td>1.304873</td>\n      <td>-0.905316</td>\n      <td>-0.319172</td>\n    </tr>\n  </tbody>\n</table>\n</div>"
     },
     "metadata": {},
     "execution_count": 37
    }
   ],
   "source": [
    "df2.set_index('S/no',inplace=True)\n",
    "df2"
   ]
  },
  {
   "cell_type": "code",
   "execution_count": 38,
   "metadata": {},
   "outputs": [
    {
     "output_type": "execute_result",
     "data": {
      "text/plain": "1th col    0.184929\n2th col    0.695579\n3th col   -0.170838\n4th col    0.205212\n5th col    0.161540\n6th col   -0.204305\ndtype: float64"
     },
     "metadata": {},
     "execution_count": 38
    }
   ],
   "source": [
    "df2.mean()"
   ]
  },
  {
   "cell_type": "markdown",
   "metadata": {},
   "source": [
    "# Combining DataFrames"
   ]
  },
  {
   "cell_type": "markdown",
   "metadata": {},
   "source": [
    "<h2>Concat</h2>"
   ]
  },
  {
   "cell_type": "code",
   "execution_count": 40,
   "metadata": {},
   "outputs": [],
   "source": [
    "df3 = pd.DataFrame({\"Coustomer\":['101','102','103','104'],'Category':['cat2','cat2','cat1','cat3'],'Important':['Y','N','Y','Y'],'Sales':[123,52,214,663]})\n",
    "df4 = pd.DataFrame({\"Coustomer\":['101','103','103','105'],'Color':['yellow','green','green','blue'],'Distance':[12,9,44,21],'Sales':[123,214,663,331]})\n"
   ]
  },
  {
   "cell_type": "code",
   "execution_count": 42,
   "metadata": {},
   "outputs": [
    {
     "output_type": "execute_result",
     "data": {
      "text/plain": "  Category   Color Coustomer  Distance Important  Sales\n0     cat2     NaN       101       NaN         Y    123\n1     cat2     NaN       102       NaN         N     52\n2     cat1     NaN       103       NaN         Y    214\n3     cat3     NaN       104       NaN         Y    663\n0      NaN  yellow       101      12.0       NaN    123\n1      NaN   green       103       9.0       NaN    214\n2      NaN   green       103      44.0       NaN    663\n3      NaN    blue       105      21.0       NaN    331",
      "text/html": "<div>\n<style scoped>\n    .dataframe tbody tr th:only-of-type {\n        vertical-align: middle;\n    }\n\n    .dataframe tbody tr th {\n        vertical-align: top;\n    }\n\n    .dataframe thead th {\n        text-align: right;\n    }\n</style>\n<table border=\"1\" class=\"dataframe\">\n  <thead>\n    <tr style=\"text-align: right;\">\n      <th></th>\n      <th>Category</th>\n      <th>Color</th>\n      <th>Coustomer</th>\n      <th>Distance</th>\n      <th>Important</th>\n      <th>Sales</th>\n    </tr>\n  </thead>\n  <tbody>\n    <tr>\n      <th>0</th>\n      <td>cat2</td>\n      <td>NaN</td>\n      <td>101</td>\n      <td>NaN</td>\n      <td>Y</td>\n      <td>123</td>\n    </tr>\n    <tr>\n      <th>1</th>\n      <td>cat2</td>\n      <td>NaN</td>\n      <td>102</td>\n      <td>NaN</td>\n      <td>N</td>\n      <td>52</td>\n    </tr>\n    <tr>\n      <th>2</th>\n      <td>cat1</td>\n      <td>NaN</td>\n      <td>103</td>\n      <td>NaN</td>\n      <td>Y</td>\n      <td>214</td>\n    </tr>\n    <tr>\n      <th>3</th>\n      <td>cat3</td>\n      <td>NaN</td>\n      <td>104</td>\n      <td>NaN</td>\n      <td>Y</td>\n      <td>663</td>\n    </tr>\n    <tr>\n      <th>0</th>\n      <td>NaN</td>\n      <td>yellow</td>\n      <td>101</td>\n      <td>12.0</td>\n      <td>NaN</td>\n      <td>123</td>\n    </tr>\n    <tr>\n      <th>1</th>\n      <td>NaN</td>\n      <td>green</td>\n      <td>103</td>\n      <td>9.0</td>\n      <td>NaN</td>\n      <td>214</td>\n    </tr>\n    <tr>\n      <th>2</th>\n      <td>NaN</td>\n      <td>green</td>\n      <td>103</td>\n      <td>44.0</td>\n      <td>NaN</td>\n      <td>663</td>\n    </tr>\n    <tr>\n      <th>3</th>\n      <td>NaN</td>\n      <td>blue</td>\n      <td>105</td>\n      <td>21.0</td>\n      <td>NaN</td>\n      <td>331</td>\n    </tr>\n  </tbody>\n</table>\n</div>"
     },
     "metadata": {},
     "execution_count": 42
    }
   ],
   "source": [
    "pd.concat([df3,df4],axis=0,sort=True)"
   ]
  },
  {
   "cell_type": "code",
   "execution_count": 43,
   "metadata": {},
   "outputs": [
    {
     "output_type": "execute_result",
     "data": {
      "text/plain": "  Coustomer Category Important  Sales Coustomer   Color  Distance  Sales\n0       101     cat2         Y    123       101  yellow        12    123\n1       102     cat2         N     52       103   green         9    214\n2       103     cat1         Y    214       103   green        44    663\n3       104     cat3         Y    663       105    blue        21    331",
      "text/html": "<div>\n<style scoped>\n    .dataframe tbody tr th:only-of-type {\n        vertical-align: middle;\n    }\n\n    .dataframe tbody tr th {\n        vertical-align: top;\n    }\n\n    .dataframe thead th {\n        text-align: right;\n    }\n</style>\n<table border=\"1\" class=\"dataframe\">\n  <thead>\n    <tr style=\"text-align: right;\">\n      <th></th>\n      <th>Coustomer</th>\n      <th>Category</th>\n      <th>Important</th>\n      <th>Sales</th>\n      <th>Coustomer</th>\n      <th>Color</th>\n      <th>Distance</th>\n      <th>Sales</th>\n    </tr>\n  </thead>\n  <tbody>\n    <tr>\n      <th>0</th>\n      <td>101</td>\n      <td>cat2</td>\n      <td>Y</td>\n      <td>123</td>\n      <td>101</td>\n      <td>yellow</td>\n      <td>12</td>\n      <td>123</td>\n    </tr>\n    <tr>\n      <th>1</th>\n      <td>102</td>\n      <td>cat2</td>\n      <td>N</td>\n      <td>52</td>\n      <td>103</td>\n      <td>green</td>\n      <td>9</td>\n      <td>214</td>\n    </tr>\n    <tr>\n      <th>2</th>\n      <td>103</td>\n      <td>cat1</td>\n      <td>Y</td>\n      <td>214</td>\n      <td>103</td>\n      <td>green</td>\n      <td>44</td>\n      <td>663</td>\n    </tr>\n    <tr>\n      <th>3</th>\n      <td>104</td>\n      <td>cat3</td>\n      <td>Y</td>\n      <td>663</td>\n      <td>105</td>\n      <td>blue</td>\n      <td>21</td>\n      <td>331</td>\n    </tr>\n  </tbody>\n</table>\n</div>"
     },
     "metadata": {},
     "execution_count": 43
    }
   ],
   "source": [
    "pd.concat([df3,df4],axis=1,sort=True)"
   ]
  },
  {
   "cell_type": "markdown",
   "metadata": {},
   "source": [
    "<h2>Merge and Join</h2>"
   ]
  },
  {
   "cell_type": "code",
   "execution_count": null,
   "metadata": {},
   "outputs": [],
   "source": []
  }
 ],
 "metadata": {
  "language_info": {
   "codemirror_mode": {
    "name": "ipython",
    "version": 3
   },
   "file_extension": ".py",
   "mimetype": "text/x-python",
   "name": "python",
   "nbconvert_exporter": "python",
   "pygments_lexer": "ipython3",
   "version": "3.7.7-final"
  },
  "orig_nbformat": 2,
  "kernelspec": {
   "name": "python37464bitbaseconda033f0f3c5f3746edbc02791a490482bd",
   "display_name": "Python 3.7.4 64-bit ('base': conda)"
  }
 },
 "nbformat": 4,
 "nbformat_minor": 2
}