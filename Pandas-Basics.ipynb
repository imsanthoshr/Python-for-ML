{
 "cells": [
  {
   "cell_type": "code",
   "execution_count": 40,
   "metadata": {},
   "outputs": [],
   "source": [
    "import pandas as pd\n",
    "import numpy as np"
   ]
  },
  {
   "cell_type": "code",
   "execution_count": 6,
   "metadata": {},
   "outputs": [
    {
     "output_type": "stream",
     "name": "stdout",
     "text": "[ 5  4 33 12 76]\n"
    }
   ],
   "source": [
    "mylist = [5,4,33,12,76]\n",
    "myarray = np.array(mylist)\n",
    "print(myarray)"
   ]
  },
  {
   "cell_type": "code",
   "execution_count": 7,
   "metadata": {},
   "outputs": [
    {
     "output_type": "stream",
     "name": "stdout",
     "text": "0     5\n1     4\n2    33\n3    12\n4    76\ndtype: int64\n0     5\n1     4\n2    33\n3    12\n4    76\ndtype: int32\n"
    }
   ],
   "source": [
    "myseries1 = pd.Series(data=mylist)\n",
    "print(myseries1)\n",
    "myseries2 = pd.Series(data=myarray)\n",
    "print(myseries2)"
   ]
  },
  {
   "cell_type": "code",
   "execution_count": 5,
   "metadata": {},
   "outputs": [
    {
     "output_type": "stream",
     "name": "stdout",
     "text": "3\n"
    }
   ],
   "source": [
    "print(myseries1[2])"
   ]
  },
  {
   "cell_type": "code",
   "execution_count": 8,
   "metadata": {},
   "outputs": [
    {
     "output_type": "stream",
     "name": "stdout",
     "text": "1th     5\n2th     4\n3th    33\n4th    12\n5th    76\ndtype: int64\n"
    }
   ],
   "source": [
    "mylables = ['1th','2th','3th','4th','5th']\n",
    "myseries3 = pd.Series(data=mylist,index=mylables)\n",
    "print(myseries3)"
   ]
  },
  {
   "cell_type": "code",
   "execution_count": 9,
   "metadata": {},
   "outputs": [
    {
     "output_type": "stream",
     "name": "stdout",
     "text": "33\n"
    }
   ],
   "source": [
    "print(myseries3['3th'])"
   ]
  },
  {
   "cell_type": "code",
   "execution_count": 10,
   "metadata": {},
   "outputs": [
    {
     "output_type": "stream",
     "name": "stdout",
     "text": "1th    2\n3th    3\n4th    4\n6th    1\n7th    6\ndtype: int64\n\n1th     7.0\n2th     NaN\n3th    36.0\n4th    16.0\n5th     NaN\n6th     NaN\n7th     NaN\ndtype: float64\n"
    }
   ],
   "source": [
    "myseries4 = pd.Series([2,3,4,1,6],['1th','3th','4th','6th','7th'])\n",
    "print(myseries4)\n",
    "print('')\n",
    "print(myseries3+myseries4)"
   ]
  },
  {
   "cell_type": "code",
   "execution_count": 16,
   "metadata": {},
   "outputs": [
    {
     "output_type": "execute_result",
     "data": {
      "text/plain": "        0    1\n1th   5.0  2.0\n2th   4.0  NaN\n3th  33.0  3.0\n4th  12.0  4.0\n5th  76.0  NaN\n6th   NaN  1.0\n7th   NaN  6.0",
      "text/html": "<div>\n<style scoped>\n    .dataframe tbody tr th:only-of-type {\n        vertical-align: middle;\n    }\n\n    .dataframe tbody tr th {\n        vertical-align: top;\n    }\n\n    .dataframe thead th {\n        text-align: right;\n    }\n</style>\n<table border=\"1\" class=\"dataframe\">\n  <thead>\n    <tr style=\"text-align: right;\">\n      <th></th>\n      <th>0</th>\n      <th>1</th>\n    </tr>\n  </thead>\n  <tbody>\n    <tr>\n      <th>1th</th>\n      <td>5.0</td>\n      <td>2.0</td>\n    </tr>\n    <tr>\n      <th>2th</th>\n      <td>4.0</td>\n      <td>NaN</td>\n    </tr>\n    <tr>\n      <th>3th</th>\n      <td>33.0</td>\n      <td>3.0</td>\n    </tr>\n    <tr>\n      <th>4th</th>\n      <td>12.0</td>\n      <td>4.0</td>\n    </tr>\n    <tr>\n      <th>5th</th>\n      <td>76.0</td>\n      <td>NaN</td>\n    </tr>\n    <tr>\n      <th>6th</th>\n      <td>NaN</td>\n      <td>1.0</td>\n    </tr>\n    <tr>\n      <th>7th</th>\n      <td>NaN</td>\n      <td>6.0</td>\n    </tr>\n  </tbody>\n</table>\n</div>"
     },
     "metadata": {},
     "execution_count": 16
    }
   ],
   "source": [
    "df1 = pd.concat([myseries3,myseries4],axis=1,sort=True)\n",
    "df1"
   ]
  },
  {
   "cell_type": "markdown",
   "metadata": {},
   "source": [
    "# Modifying a DataFrame"
   ]
  },
  {
   "cell_type": "code",
   "execution_count": 18,
   "metadata": {},
   "outputs": [
    {
     "output_type": "execute_result",
     "data": {
      "text/plain": "          1th col   2th col   3th col   4th col   5th col\n1th row  0.847794 -0.516739  0.250755 -0.210721 -0.582605\n2th row  0.145061  1.774708  0.780958  0.996805  0.780980\n3th row  0.662552 -0.147782 -0.053733 -0.932024  0.713458\n4th row -1.033275  0.667603  0.286494 -0.132871  0.801185\n5th row  0.302512  1.700104 -2.118665  1.304873 -0.905316",
      "text/html": "<div>\n<style scoped>\n    .dataframe tbody tr th:only-of-type {\n        vertical-align: middle;\n    }\n\n    .dataframe tbody tr th {\n        vertical-align: top;\n    }\n\n    .dataframe thead th {\n        text-align: right;\n    }\n</style>\n<table border=\"1\" class=\"dataframe\">\n  <thead>\n    <tr style=\"text-align: right;\">\n      <th></th>\n      <th>1th col</th>\n      <th>2th col</th>\n      <th>3th col</th>\n      <th>4th col</th>\n      <th>5th col</th>\n    </tr>\n  </thead>\n  <tbody>\n    <tr>\n      <th>1th row</th>\n      <td>0.847794</td>\n      <td>-0.516739</td>\n      <td>0.250755</td>\n      <td>-0.210721</td>\n      <td>-0.582605</td>\n    </tr>\n    <tr>\n      <th>2th row</th>\n      <td>0.145061</td>\n      <td>1.774708</td>\n      <td>0.780958</td>\n      <td>0.996805</td>\n      <td>0.780980</td>\n    </tr>\n    <tr>\n      <th>3th row</th>\n      <td>0.662552</td>\n      <td>-0.147782</td>\n      <td>-0.053733</td>\n      <td>-0.932024</td>\n      <td>0.713458</td>\n    </tr>\n    <tr>\n      <th>4th row</th>\n      <td>-1.033275</td>\n      <td>0.667603</td>\n      <td>0.286494</td>\n      <td>-0.132871</td>\n      <td>0.801185</td>\n    </tr>\n    <tr>\n      <th>5th row</th>\n      <td>0.302512</td>\n      <td>1.700104</td>\n      <td>-2.118665</td>\n      <td>1.304873</td>\n      <td>-0.905316</td>\n    </tr>\n  </tbody>\n</table>\n</div>"
     },
     "metadata": {},
     "execution_count": 18
    }
   ],
   "source": [
    "df2 = pd.DataFrame(np.random.randn(5,5),index=['1th row','2th row','3th row','4th row','5th row'],columns=['1th col','2th col','3th col','4th col','5th col'])\n",
    "df2"
   ]
  },
  {
   "cell_type": "code",
   "execution_count": 22,
   "metadata": {},
   "outputs": [
    {
     "output_type": "execute_result",
     "data": {
      "text/plain": "          2th col   5th col\n1th row -0.516739 -0.582605\n2th row  1.774708  0.780980\n3th row -0.147782  0.713458\n4th row  0.667603  0.801185\n5th row  1.700104 -0.905316",
      "text/html": "<div>\n<style scoped>\n    .dataframe tbody tr th:only-of-type {\n        vertical-align: middle;\n    }\n\n    .dataframe tbody tr th {\n        vertical-align: top;\n    }\n\n    .dataframe thead th {\n        text-align: right;\n    }\n</style>\n<table border=\"1\" class=\"dataframe\">\n  <thead>\n    <tr style=\"text-align: right;\">\n      <th></th>\n      <th>2th col</th>\n      <th>5th col</th>\n    </tr>\n  </thead>\n  <tbody>\n    <tr>\n      <th>1th row</th>\n      <td>-0.516739</td>\n      <td>-0.582605</td>\n    </tr>\n    <tr>\n      <th>2th row</th>\n      <td>1.774708</td>\n      <td>0.780980</td>\n    </tr>\n    <tr>\n      <th>3th row</th>\n      <td>-0.147782</td>\n      <td>0.713458</td>\n    </tr>\n    <tr>\n      <th>4th row</th>\n      <td>0.667603</td>\n      <td>0.801185</td>\n    </tr>\n    <tr>\n      <th>5th row</th>\n      <td>1.700104</td>\n      <td>-0.905316</td>\n    </tr>\n  </tbody>\n</table>\n</div>"
     },
     "metadata": {},
     "execution_count": 22
    }
   ],
   "source": [
    "df2[['2th col','5th col']]"
   ]
  },
  {
   "cell_type": "code",
   "execution_count": 25,
   "metadata": {},
   "outputs": [
    {
     "output_type": "execute_result",
     "data": {
      "text/plain": "          1th col   3th col\n2th row  0.145061  0.780958\n4th row -1.033275  0.286494",
      "text/html": "<div>\n<style scoped>\n    .dataframe tbody tr th:only-of-type {\n        vertical-align: middle;\n    }\n\n    .dataframe tbody tr th {\n        vertical-align: top;\n    }\n\n    .dataframe thead th {\n        text-align: right;\n    }\n</style>\n<table border=\"1\" class=\"dataframe\">\n  <thead>\n    <tr style=\"text-align: right;\">\n      <th></th>\n      <th>1th col</th>\n      <th>3th col</th>\n    </tr>\n  </thead>\n  <tbody>\n    <tr>\n      <th>2th row</th>\n      <td>0.145061</td>\n      <td>0.780958</td>\n    </tr>\n    <tr>\n      <th>4th row</th>\n      <td>-1.033275</td>\n      <td>0.286494</td>\n    </tr>\n  </tbody>\n</table>\n</div>"
     },
     "metadata": {},
     "execution_count": 25
    }
   ],
   "source": [
    "df2.loc[['2th row' ,'4th row'],['1th col','3th col']]"
   ]
  },
  {
   "cell_type": "code",
   "execution_count": 26,
   "metadata": {},
   "outputs": [
    {
     "output_type": "execute_result",
     "data": {
      "text/plain": "         1th col  2th col  3th col  4th col  5th col\n1th row     True    False     True    False    False\n2th row     True     True     True     True     True\n3th row     True    False    False    False     True\n4th row    False     True     True    False     True\n5th row     True     True    False     True    False",
      "text/html": "<div>\n<style scoped>\n    .dataframe tbody tr th:only-of-type {\n        vertical-align: middle;\n    }\n\n    .dataframe tbody tr th {\n        vertical-align: top;\n    }\n\n    .dataframe thead th {\n        text-align: right;\n    }\n</style>\n<table border=\"1\" class=\"dataframe\">\n  <thead>\n    <tr style=\"text-align: right;\">\n      <th></th>\n      <th>1th col</th>\n      <th>2th col</th>\n      <th>3th col</th>\n      <th>4th col</th>\n      <th>5th col</th>\n    </tr>\n  </thead>\n  <tbody>\n    <tr>\n      <th>1th row</th>\n      <td>True</td>\n      <td>False</td>\n      <td>True</td>\n      <td>False</td>\n      <td>False</td>\n    </tr>\n    <tr>\n      <th>2th row</th>\n      <td>True</td>\n      <td>True</td>\n      <td>True</td>\n      <td>True</td>\n      <td>True</td>\n    </tr>\n    <tr>\n      <th>3th row</th>\n      <td>True</td>\n      <td>False</td>\n      <td>False</td>\n      <td>False</td>\n      <td>True</td>\n    </tr>\n    <tr>\n      <th>4th row</th>\n      <td>False</td>\n      <td>True</td>\n      <td>True</td>\n      <td>False</td>\n      <td>True</td>\n    </tr>\n    <tr>\n      <th>5th row</th>\n      <td>True</td>\n      <td>True</td>\n      <td>False</td>\n      <td>True</td>\n      <td>False</td>\n    </tr>\n  </tbody>\n</table>\n</div>"
     },
     "metadata": {},
     "execution_count": 26
    }
   ],
   "source": [
    "df2>0"
   ]
  },
  {
   "cell_type": "code",
   "execution_count": 28,
   "metadata": {},
   "outputs": [
    {
     "output_type": "execute_result",
     "data": {
      "text/plain": "          1th col   2th col   3th col   4th col   5th col\n1th row  0.847794       NaN  0.250755       NaN       NaN\n2th row  0.145061  1.774708  0.780958  0.996805  0.780980\n3th row  0.662552       NaN       NaN       NaN  0.713458\n4th row       NaN  0.667603  0.286494       NaN  0.801185\n5th row  0.302512  1.700104       NaN  1.304873       NaN",
      "text/html": "<div>\n<style scoped>\n    .dataframe tbody tr th:only-of-type {\n        vertical-align: middle;\n    }\n\n    .dataframe tbody tr th {\n        vertical-align: top;\n    }\n\n    .dataframe thead th {\n        text-align: right;\n    }\n</style>\n<table border=\"1\" class=\"dataframe\">\n  <thead>\n    <tr style=\"text-align: right;\">\n      <th></th>\n      <th>1th col</th>\n      <th>2th col</th>\n      <th>3th col</th>\n      <th>4th col</th>\n      <th>5th col</th>\n    </tr>\n  </thead>\n  <tbody>\n    <tr>\n      <th>1th row</th>\n      <td>0.847794</td>\n      <td>NaN</td>\n      <td>0.250755</td>\n      <td>NaN</td>\n      <td>NaN</td>\n    </tr>\n    <tr>\n      <th>2th row</th>\n      <td>0.145061</td>\n      <td>1.774708</td>\n      <td>0.780958</td>\n      <td>0.996805</td>\n      <td>0.780980</td>\n    </tr>\n    <tr>\n      <th>3th row</th>\n      <td>0.662552</td>\n      <td>NaN</td>\n      <td>NaN</td>\n      <td>NaN</td>\n      <td>0.713458</td>\n    </tr>\n    <tr>\n      <th>4th row</th>\n      <td>NaN</td>\n      <td>0.667603</td>\n      <td>0.286494</td>\n      <td>NaN</td>\n      <td>0.801185</td>\n    </tr>\n    <tr>\n      <th>5th row</th>\n      <td>0.302512</td>\n      <td>1.700104</td>\n      <td>NaN</td>\n      <td>1.304873</td>\n      <td>NaN</td>\n    </tr>\n  </tbody>\n</table>\n</div>"
     },
     "metadata": {},
     "execution_count": 28
    }
   ],
   "source": [
    "df2[df2>0]"
   ]
  },
  {
   "cell_type": "code",
   "execution_count": 29,
   "metadata": {},
   "outputs": [
    {
     "output_type": "execute_result",
     "data": {
      "text/plain": "          1th col   2th col   3th col   4th col   5th col   6th col\n1th row  0.847794 -0.516739  0.250755 -0.210721 -0.582605 -0.388806\n2th row  0.145061  1.774708  0.780958  0.996805  0.780980 -1.829623\n3th row  0.662552 -0.147782 -0.053733 -0.932024  0.713458  1.218539\n4th row -1.033275  0.667603  0.286494 -0.132871  0.801185  0.297538\n5th row  0.302512  1.700104 -2.118665  1.304873 -0.905316 -0.319172",
      "text/html": "<div>\n<style scoped>\n    .dataframe tbody tr th:only-of-type {\n        vertical-align: middle;\n    }\n\n    .dataframe tbody tr th {\n        vertical-align: top;\n    }\n\n    .dataframe thead th {\n        text-align: right;\n    }\n</style>\n<table border=\"1\" class=\"dataframe\">\n  <thead>\n    <tr style=\"text-align: right;\">\n      <th></th>\n      <th>1th col</th>\n      <th>2th col</th>\n      <th>3th col</th>\n      <th>4th col</th>\n      <th>5th col</th>\n      <th>6th col</th>\n    </tr>\n  </thead>\n  <tbody>\n    <tr>\n      <th>1th row</th>\n      <td>0.847794</td>\n      <td>-0.516739</td>\n      <td>0.250755</td>\n      <td>-0.210721</td>\n      <td>-0.582605</td>\n      <td>-0.388806</td>\n    </tr>\n    <tr>\n      <th>2th row</th>\n      <td>0.145061</td>\n      <td>1.774708</td>\n      <td>0.780958</td>\n      <td>0.996805</td>\n      <td>0.780980</td>\n      <td>-1.829623</td>\n    </tr>\n    <tr>\n      <th>3th row</th>\n      <td>0.662552</td>\n      <td>-0.147782</td>\n      <td>-0.053733</td>\n      <td>-0.932024</td>\n      <td>0.713458</td>\n      <td>1.218539</td>\n    </tr>\n    <tr>\n      <th>4th row</th>\n      <td>-1.033275</td>\n      <td>0.667603</td>\n      <td>0.286494</td>\n      <td>-0.132871</td>\n      <td>0.801185</td>\n      <td>0.297538</td>\n    </tr>\n    <tr>\n      <th>5th row</th>\n      <td>0.302512</td>\n      <td>1.700104</td>\n      <td>-2.118665</td>\n      <td>1.304873</td>\n      <td>-0.905316</td>\n      <td>-0.319172</td>\n    </tr>\n  </tbody>\n</table>\n</div>"
     },
     "metadata": {},
     "execution_count": 29
    }
   ],
   "source": [
    "df2['6th col'] = np.random.randn(5,1)\n",
    "df2"
   ]
  },
  {
   "cell_type": "code",
   "execution_count": 30,
   "metadata": {},
   "outputs": [
    {
     "output_type": "execute_result",
     "data": {
      "text/plain": "          1th col   2th col   4th col   5th col   6th col\n1th row  0.847794 -0.516739 -0.210721 -0.582605 -0.388806\n2th row  0.145061  1.774708  0.996805  0.780980 -1.829623\n3th row  0.662552 -0.147782 -0.932024  0.713458  1.218539\n4th row -1.033275  0.667603 -0.132871  0.801185  0.297538\n5th row  0.302512  1.700104  1.304873 -0.905316 -0.319172",
      "text/html": "<div>\n<style scoped>\n    .dataframe tbody tr th:only-of-type {\n        vertical-align: middle;\n    }\n\n    .dataframe tbody tr th {\n        vertical-align: top;\n    }\n\n    .dataframe thead th {\n        text-align: right;\n    }\n</style>\n<table border=\"1\" class=\"dataframe\">\n  <thead>\n    <tr style=\"text-align: right;\">\n      <th></th>\n      <th>1th col</th>\n      <th>2th col</th>\n      <th>4th col</th>\n      <th>5th col</th>\n      <th>6th col</th>\n    </tr>\n  </thead>\n  <tbody>\n    <tr>\n      <th>1th row</th>\n      <td>0.847794</td>\n      <td>-0.516739</td>\n      <td>-0.210721</td>\n      <td>-0.582605</td>\n      <td>-0.388806</td>\n    </tr>\n    <tr>\n      <th>2th row</th>\n      <td>0.145061</td>\n      <td>1.774708</td>\n      <td>0.996805</td>\n      <td>0.780980</td>\n      <td>-1.829623</td>\n    </tr>\n    <tr>\n      <th>3th row</th>\n      <td>0.662552</td>\n      <td>-0.147782</td>\n      <td>-0.932024</td>\n      <td>0.713458</td>\n      <td>1.218539</td>\n    </tr>\n    <tr>\n      <th>4th row</th>\n      <td>-1.033275</td>\n      <td>0.667603</td>\n      <td>-0.132871</td>\n      <td>0.801185</td>\n      <td>0.297538</td>\n    </tr>\n    <tr>\n      <th>5th row</th>\n      <td>0.302512</td>\n      <td>1.700104</td>\n      <td>1.304873</td>\n      <td>-0.905316</td>\n      <td>-0.319172</td>\n    </tr>\n  </tbody>\n</table>\n</div>"
     },
     "metadata": {},
     "execution_count": 30
    }
   ],
   "source": [
    "df2.drop('3th col',axis=1)"
   ]
  },
  {
   "cell_type": "code",
   "execution_count": 31,
   "metadata": {},
   "outputs": [
    {
     "output_type": "execute_result",
     "data": {
      "text/plain": "          1th col   2th col   3th col   4th col   5th col   6th col\n1th row  0.847794 -0.516739  0.250755 -0.210721 -0.582605 -0.388806\n2th row  0.145061  1.774708  0.780958  0.996805  0.780980 -1.829623\n3th row  0.662552 -0.147782 -0.053733 -0.932024  0.713458  1.218539\n4th row -1.033275  0.667603  0.286494 -0.132871  0.801185  0.297538\n5th row  0.302512  1.700104 -2.118665  1.304873 -0.905316 -0.319172",
      "text/html": "<div>\n<style scoped>\n    .dataframe tbody tr th:only-of-type {\n        vertical-align: middle;\n    }\n\n    .dataframe tbody tr th {\n        vertical-align: top;\n    }\n\n    .dataframe thead th {\n        text-align: right;\n    }\n</style>\n<table border=\"1\" class=\"dataframe\">\n  <thead>\n    <tr style=\"text-align: right;\">\n      <th></th>\n      <th>1th col</th>\n      <th>2th col</th>\n      <th>3th col</th>\n      <th>4th col</th>\n      <th>5th col</th>\n      <th>6th col</th>\n    </tr>\n  </thead>\n  <tbody>\n    <tr>\n      <th>1th row</th>\n      <td>0.847794</td>\n      <td>-0.516739</td>\n      <td>0.250755</td>\n      <td>-0.210721</td>\n      <td>-0.582605</td>\n      <td>-0.388806</td>\n    </tr>\n    <tr>\n      <th>2th row</th>\n      <td>0.145061</td>\n      <td>1.774708</td>\n      <td>0.780958</td>\n      <td>0.996805</td>\n      <td>0.780980</td>\n      <td>-1.829623</td>\n    </tr>\n    <tr>\n      <th>3th row</th>\n      <td>0.662552</td>\n      <td>-0.147782</td>\n      <td>-0.053733</td>\n      <td>-0.932024</td>\n      <td>0.713458</td>\n      <td>1.218539</td>\n    </tr>\n    <tr>\n      <th>4th row</th>\n      <td>-1.033275</td>\n      <td>0.667603</td>\n      <td>0.286494</td>\n      <td>-0.132871</td>\n      <td>0.801185</td>\n      <td>0.297538</td>\n    </tr>\n    <tr>\n      <th>5th row</th>\n      <td>0.302512</td>\n      <td>1.700104</td>\n      <td>-2.118665</td>\n      <td>1.304873</td>\n      <td>-0.905316</td>\n      <td>-0.319172</td>\n    </tr>\n  </tbody>\n</table>\n</div>"
     },
     "metadata": {},
     "execution_count": 31
    }
   ],
   "source": [
    "df2"
   ]
  },
  {
   "cell_type": "code",
   "execution_count": 32,
   "metadata": {},
   "outputs": [
    {
     "output_type": "execute_result",
     "data": {
      "text/plain": "     index   1th col   2th col   3th col   4th col   5th col   6th col\n0  1th row  0.847794 -0.516739  0.250755 -0.210721 -0.582605 -0.388806\n1  2th row  0.145061  1.774708  0.780958  0.996805  0.780980 -1.829623\n2  3th row  0.662552 -0.147782 -0.053733 -0.932024  0.713458  1.218539\n3  4th row -1.033275  0.667603  0.286494 -0.132871  0.801185  0.297538\n4  5th row  0.302512  1.700104 -2.118665  1.304873 -0.905316 -0.319172",
      "text/html": "<div>\n<style scoped>\n    .dataframe tbody tr th:only-of-type {\n        vertical-align: middle;\n    }\n\n    .dataframe tbody tr th {\n        vertical-align: top;\n    }\n\n    .dataframe thead th {\n        text-align: right;\n    }\n</style>\n<table border=\"1\" class=\"dataframe\">\n  <thead>\n    <tr style=\"text-align: right;\">\n      <th></th>\n      <th>index</th>\n      <th>1th col</th>\n      <th>2th col</th>\n      <th>3th col</th>\n      <th>4th col</th>\n      <th>5th col</th>\n      <th>6th col</th>\n    </tr>\n  </thead>\n  <tbody>\n    <tr>\n      <th>0</th>\n      <td>1th row</td>\n      <td>0.847794</td>\n      <td>-0.516739</td>\n      <td>0.250755</td>\n      <td>-0.210721</td>\n      <td>-0.582605</td>\n      <td>-0.388806</td>\n    </tr>\n    <tr>\n      <th>1</th>\n      <td>2th row</td>\n      <td>0.145061</td>\n      <td>1.774708</td>\n      <td>0.780958</td>\n      <td>0.996805</td>\n      <td>0.780980</td>\n      <td>-1.829623</td>\n    </tr>\n    <tr>\n      <th>2</th>\n      <td>3th row</td>\n      <td>0.662552</td>\n      <td>-0.147782</td>\n      <td>-0.053733</td>\n      <td>-0.932024</td>\n      <td>0.713458</td>\n      <td>1.218539</td>\n    </tr>\n    <tr>\n      <th>3</th>\n      <td>4th row</td>\n      <td>-1.033275</td>\n      <td>0.667603</td>\n      <td>0.286494</td>\n      <td>-0.132871</td>\n      <td>0.801185</td>\n      <td>0.297538</td>\n    </tr>\n    <tr>\n      <th>4</th>\n      <td>5th row</td>\n      <td>0.302512</td>\n      <td>1.700104</td>\n      <td>-2.118665</td>\n      <td>1.304873</td>\n      <td>-0.905316</td>\n      <td>-0.319172</td>\n    </tr>\n  </tbody>\n</table>\n</div>"
     },
     "metadata": {},
     "execution_count": 32
    }
   ],
   "source": [
    " df2.reset_index()"
   ]
  },
  {
   "cell_type": "code",
   "execution_count": 33,
   "metadata": {},
   "outputs": [
    {
     "output_type": "execute_result",
     "data": {
      "text/plain": "          1th col   2th col   3th col   4th col   5th col   6th col\n1th row  0.847794 -0.516739  0.250755 -0.210721 -0.582605 -0.388806\n2th row  0.145061  1.774708  0.780958  0.996805  0.780980 -1.829623\n3th row  0.662552 -0.147782 -0.053733 -0.932024  0.713458  1.218539\n4th row -1.033275  0.667603  0.286494 -0.132871  0.801185  0.297538\n5th row  0.302512  1.700104 -2.118665  1.304873 -0.905316 -0.319172",
      "text/html": "<div>\n<style scoped>\n    .dataframe tbody tr th:only-of-type {\n        vertical-align: middle;\n    }\n\n    .dataframe tbody tr th {\n        vertical-align: top;\n    }\n\n    .dataframe thead th {\n        text-align: right;\n    }\n</style>\n<table border=\"1\" class=\"dataframe\">\n  <thead>\n    <tr style=\"text-align: right;\">\n      <th></th>\n      <th>1th col</th>\n      <th>2th col</th>\n      <th>3th col</th>\n      <th>4th col</th>\n      <th>5th col</th>\n      <th>6th col</th>\n    </tr>\n  </thead>\n  <tbody>\n    <tr>\n      <th>1th row</th>\n      <td>0.847794</td>\n      <td>-0.516739</td>\n      <td>0.250755</td>\n      <td>-0.210721</td>\n      <td>-0.582605</td>\n      <td>-0.388806</td>\n    </tr>\n    <tr>\n      <th>2th row</th>\n      <td>0.145061</td>\n      <td>1.774708</td>\n      <td>0.780958</td>\n      <td>0.996805</td>\n      <td>0.780980</td>\n      <td>-1.829623</td>\n    </tr>\n    <tr>\n      <th>3th row</th>\n      <td>0.662552</td>\n      <td>-0.147782</td>\n      <td>-0.053733</td>\n      <td>-0.932024</td>\n      <td>0.713458</td>\n      <td>1.218539</td>\n    </tr>\n    <tr>\n      <th>4th row</th>\n      <td>-1.033275</td>\n      <td>0.667603</td>\n      <td>0.286494</td>\n      <td>-0.132871</td>\n      <td>0.801185</td>\n      <td>0.297538</td>\n    </tr>\n    <tr>\n      <th>5th row</th>\n      <td>0.302512</td>\n      <td>1.700104</td>\n      <td>-2.118665</td>\n      <td>1.304873</td>\n      <td>-0.905316</td>\n      <td>-0.319172</td>\n    </tr>\n  </tbody>\n</table>\n</div>"
     },
     "metadata": {},
     "execution_count": 33
    }
   ],
   "source": [
    "df2"
   ]
  },
  {
   "cell_type": "code",
   "execution_count": 34,
   "metadata": {},
   "outputs": [
    {
     "output_type": "execute_result",
     "data": {
      "text/plain": "     index   1th col   2th col   3th col   4th col   5th col   6th col\n0  1th row  0.847794 -0.516739  0.250755 -0.210721 -0.582605 -0.388806\n1  2th row  0.145061  1.774708  0.780958  0.996805  0.780980 -1.829623\n2  3th row  0.662552 -0.147782 -0.053733 -0.932024  0.713458  1.218539\n3  4th row -1.033275  0.667603  0.286494 -0.132871  0.801185  0.297538\n4  5th row  0.302512  1.700104 -2.118665  1.304873 -0.905316 -0.319172",
      "text/html": "<div>\n<style scoped>\n    .dataframe tbody tr th:only-of-type {\n        vertical-align: middle;\n    }\n\n    .dataframe tbody tr th {\n        vertical-align: top;\n    }\n\n    .dataframe thead th {\n        text-align: right;\n    }\n</style>\n<table border=\"1\" class=\"dataframe\">\n  <thead>\n    <tr style=\"text-align: right;\">\n      <th></th>\n      <th>index</th>\n      <th>1th col</th>\n      <th>2th col</th>\n      <th>3th col</th>\n      <th>4th col</th>\n      <th>5th col</th>\n      <th>6th col</th>\n    </tr>\n  </thead>\n  <tbody>\n    <tr>\n      <th>0</th>\n      <td>1th row</td>\n      <td>0.847794</td>\n      <td>-0.516739</td>\n      <td>0.250755</td>\n      <td>-0.210721</td>\n      <td>-0.582605</td>\n      <td>-0.388806</td>\n    </tr>\n    <tr>\n      <th>1</th>\n      <td>2th row</td>\n      <td>0.145061</td>\n      <td>1.774708</td>\n      <td>0.780958</td>\n      <td>0.996805</td>\n      <td>0.780980</td>\n      <td>-1.829623</td>\n    </tr>\n    <tr>\n      <th>2</th>\n      <td>3th row</td>\n      <td>0.662552</td>\n      <td>-0.147782</td>\n      <td>-0.053733</td>\n      <td>-0.932024</td>\n      <td>0.713458</td>\n      <td>1.218539</td>\n    </tr>\n    <tr>\n      <th>3</th>\n      <td>4th row</td>\n      <td>-1.033275</td>\n      <td>0.667603</td>\n      <td>0.286494</td>\n      <td>-0.132871</td>\n      <td>0.801185</td>\n      <td>0.297538</td>\n    </tr>\n    <tr>\n      <th>4</th>\n      <td>5th row</td>\n      <td>0.302512</td>\n      <td>1.700104</td>\n      <td>-2.118665</td>\n      <td>1.304873</td>\n      <td>-0.905316</td>\n      <td>-0.319172</td>\n    </tr>\n  </tbody>\n</table>\n</div>"
     },
     "metadata": {},
     "execution_count": 34
    }
   ],
   "source": [
    "df2.reset_index(inplace=True)\n",
    "df2"
   ]
  },
  {
   "cell_type": "code",
   "execution_count": 35,
   "metadata": {},
   "outputs": [
    {
     "output_type": "execute_result",
     "data": {
      "text/plain": "     index   1th col   2th col   3th col   4th col   5th col   6th col\n0  1th row  0.847794 -0.516739  0.250755 -0.210721 -0.582605 -0.388806\n1  2th row  0.145061  1.774708  0.780958  0.996805  0.780980 -1.829623\n2  3th row  0.662552 -0.147782 -0.053733 -0.932024  0.713458  1.218539\n3  4th row -1.033275  0.667603  0.286494 -0.132871  0.801185  0.297538\n4  5th row  0.302512  1.700104 -2.118665  1.304873 -0.905316 -0.319172",
      "text/html": "<div>\n<style scoped>\n    .dataframe tbody tr th:only-of-type {\n        vertical-align: middle;\n    }\n\n    .dataframe tbody tr th {\n        vertical-align: top;\n    }\n\n    .dataframe thead th {\n        text-align: right;\n    }\n</style>\n<table border=\"1\" class=\"dataframe\">\n  <thead>\n    <tr style=\"text-align: right;\">\n      <th></th>\n      <th>index</th>\n      <th>1th col</th>\n      <th>2th col</th>\n      <th>3th col</th>\n      <th>4th col</th>\n      <th>5th col</th>\n      <th>6th col</th>\n    </tr>\n  </thead>\n  <tbody>\n    <tr>\n      <th>0</th>\n      <td>1th row</td>\n      <td>0.847794</td>\n      <td>-0.516739</td>\n      <td>0.250755</td>\n      <td>-0.210721</td>\n      <td>-0.582605</td>\n      <td>-0.388806</td>\n    </tr>\n    <tr>\n      <th>1</th>\n      <td>2th row</td>\n      <td>0.145061</td>\n      <td>1.774708</td>\n      <td>0.780958</td>\n      <td>0.996805</td>\n      <td>0.780980</td>\n      <td>-1.829623</td>\n    </tr>\n    <tr>\n      <th>2</th>\n      <td>3th row</td>\n      <td>0.662552</td>\n      <td>-0.147782</td>\n      <td>-0.053733</td>\n      <td>-0.932024</td>\n      <td>0.713458</td>\n      <td>1.218539</td>\n    </tr>\n    <tr>\n      <th>3</th>\n      <td>4th row</td>\n      <td>-1.033275</td>\n      <td>0.667603</td>\n      <td>0.286494</td>\n      <td>-0.132871</td>\n      <td>0.801185</td>\n      <td>0.297538</td>\n    </tr>\n    <tr>\n      <th>4</th>\n      <td>5th row</td>\n      <td>0.302512</td>\n      <td>1.700104</td>\n      <td>-2.118665</td>\n      <td>1.304873</td>\n      <td>-0.905316</td>\n      <td>-0.319172</td>\n    </tr>\n  </tbody>\n</table>\n</div>"
     },
     "metadata": {},
     "execution_count": 35
    }
   ],
   "source": [
    "df2"
   ]
  },
  {
   "cell_type": "code",
   "execution_count": 36,
   "metadata": {},
   "outputs": [
    {
     "output_type": "execute_result",
     "data": {
      "text/plain": "     index   1th col   2th col   3th col   4th col   5th col   6th col S/no\n0  1th row  0.847794 -0.516739  0.250755 -0.210721 -0.582605 -0.388806    #\n1  2th row  0.145061  1.774708  0.780958  0.996805  0.780980 -1.829623    #\n2  3th row  0.662552 -0.147782 -0.053733 -0.932024  0.713458  1.218539    #\n3  4th row -1.033275  0.667603  0.286494 -0.132871  0.801185  0.297538    #\n4  5th row  0.302512  1.700104 -2.118665  1.304873 -0.905316 -0.319172    #",
      "text/html": "<div>\n<style scoped>\n    .dataframe tbody tr th:only-of-type {\n        vertical-align: middle;\n    }\n\n    .dataframe tbody tr th {\n        vertical-align: top;\n    }\n\n    .dataframe thead th {\n        text-align: right;\n    }\n</style>\n<table border=\"1\" class=\"dataframe\">\n  <thead>\n    <tr style=\"text-align: right;\">\n      <th></th>\n      <th>index</th>\n      <th>1th col</th>\n      <th>2th col</th>\n      <th>3th col</th>\n      <th>4th col</th>\n      <th>5th col</th>\n      <th>6th col</th>\n      <th>S/no</th>\n    </tr>\n  </thead>\n  <tbody>\n    <tr>\n      <th>0</th>\n      <td>1th row</td>\n      <td>0.847794</td>\n      <td>-0.516739</td>\n      <td>0.250755</td>\n      <td>-0.210721</td>\n      <td>-0.582605</td>\n      <td>-0.388806</td>\n      <td>#</td>\n    </tr>\n    <tr>\n      <th>1</th>\n      <td>2th row</td>\n      <td>0.145061</td>\n      <td>1.774708</td>\n      <td>0.780958</td>\n      <td>0.996805</td>\n      <td>0.780980</td>\n      <td>-1.829623</td>\n      <td>#</td>\n    </tr>\n    <tr>\n      <th>2</th>\n      <td>3th row</td>\n      <td>0.662552</td>\n      <td>-0.147782</td>\n      <td>-0.053733</td>\n      <td>-0.932024</td>\n      <td>0.713458</td>\n      <td>1.218539</td>\n      <td>#</td>\n    </tr>\n    <tr>\n      <th>3</th>\n      <td>4th row</td>\n      <td>-1.033275</td>\n      <td>0.667603</td>\n      <td>0.286494</td>\n      <td>-0.132871</td>\n      <td>0.801185</td>\n      <td>0.297538</td>\n      <td>#</td>\n    </tr>\n    <tr>\n      <th>4</th>\n      <td>5th row</td>\n      <td>0.302512</td>\n      <td>1.700104</td>\n      <td>-2.118665</td>\n      <td>1.304873</td>\n      <td>-0.905316</td>\n      <td>-0.319172</td>\n      <td>#</td>\n    </tr>\n  </tbody>\n</table>\n</div>"
     },
     "metadata": {},
     "execution_count": 36
    }
   ],
   "source": [
    "df2['S/no']=['#','#','#','#','#']\n",
    "df2"
   ]
  },
  {
   "cell_type": "code",
   "execution_count": 37,
   "metadata": {},
   "outputs": [
    {
     "output_type": "execute_result",
     "data": {
      "text/plain": "        index   1th col   2th col   3th col   4th col   5th col   6th col\nS/no                                                                     \n#     1th row  0.847794 -0.516739  0.250755 -0.210721 -0.582605 -0.388806\n#     2th row  0.145061  1.774708  0.780958  0.996805  0.780980 -1.829623\n#     3th row  0.662552 -0.147782 -0.053733 -0.932024  0.713458  1.218539\n#     4th row -1.033275  0.667603  0.286494 -0.132871  0.801185  0.297538\n#     5th row  0.302512  1.700104 -2.118665  1.304873 -0.905316 -0.319172",
      "text/html": "<div>\n<style scoped>\n    .dataframe tbody tr th:only-of-type {\n        vertical-align: middle;\n    }\n\n    .dataframe tbody tr th {\n        vertical-align: top;\n    }\n\n    .dataframe thead th {\n        text-align: right;\n    }\n</style>\n<table border=\"1\" class=\"dataframe\">\n  <thead>\n    <tr style=\"text-align: right;\">\n      <th></th>\n      <th>index</th>\n      <th>1th col</th>\n      <th>2th col</th>\n      <th>3th col</th>\n      <th>4th col</th>\n      <th>5th col</th>\n      <th>6th col</th>\n    </tr>\n    <tr>\n      <th>S/no</th>\n      <th></th>\n      <th></th>\n      <th></th>\n      <th></th>\n      <th></th>\n      <th></th>\n      <th></th>\n    </tr>\n  </thead>\n  <tbody>\n    <tr>\n      <th>#</th>\n      <td>1th row</td>\n      <td>0.847794</td>\n      <td>-0.516739</td>\n      <td>0.250755</td>\n      <td>-0.210721</td>\n      <td>-0.582605</td>\n      <td>-0.388806</td>\n    </tr>\n    <tr>\n      <th>#</th>\n      <td>2th row</td>\n      <td>0.145061</td>\n      <td>1.774708</td>\n      <td>0.780958</td>\n      <td>0.996805</td>\n      <td>0.780980</td>\n      <td>-1.829623</td>\n    </tr>\n    <tr>\n      <th>#</th>\n      <td>3th row</td>\n      <td>0.662552</td>\n      <td>-0.147782</td>\n      <td>-0.053733</td>\n      <td>-0.932024</td>\n      <td>0.713458</td>\n      <td>1.218539</td>\n    </tr>\n    <tr>\n      <th>#</th>\n      <td>4th row</td>\n      <td>-1.033275</td>\n      <td>0.667603</td>\n      <td>0.286494</td>\n      <td>-0.132871</td>\n      <td>0.801185</td>\n      <td>0.297538</td>\n    </tr>\n    <tr>\n      <th>#</th>\n      <td>5th row</td>\n      <td>0.302512</td>\n      <td>1.700104</td>\n      <td>-2.118665</td>\n      <td>1.304873</td>\n      <td>-0.905316</td>\n      <td>-0.319172</td>\n    </tr>\n  </tbody>\n</table>\n</div>"
     },
     "metadata": {},
     "execution_count": 37
    }
   ],
   "source": [
    "df2.set_index('S/no',inplace=True)\n",
    "df2"
   ]
  },
  {
   "cell_type": "code",
   "execution_count": 38,
   "metadata": {},
   "outputs": [
    {
     "output_type": "execute_result",
     "data": {
      "text/plain": "1th col    0.184929\n2th col    0.695579\n3th col   -0.170838\n4th col    0.205212\n5th col    0.161540\n6th col   -0.204305\ndtype: float64"
     },
     "metadata": {},
     "execution_count": 38
    }
   ],
   "source": [
    "df2.mean()"
   ]
  },
  {
   "cell_type": "markdown",
   "metadata": {},
   "source": [
    "# Combining DataFrames"
   ]
  },
  {
   "cell_type": "markdown",
   "metadata": {},
   "source": [
    "<h2>Concat</h2>"
   ]
  },
  {
   "cell_type": "code",
   "execution_count": 3,
   "metadata": {},
   "outputs": [],
   "source": [
    "df3 = pd.DataFrame({\"Customer\":['101','102','103','104'],'Category':['cat2','cat2','cat1','cat3'],'Important':['Y','N','Y','Y'],'Sales':[123,52,214,663]})\n",
    "df4 = pd.DataFrame({\"Customer\":['101','103','103','105'],'Color':['yellow','green','green','blue'],'Distance':[12,9,44,21],'Sales':[123,214,663,331]})\n"
   ]
  },
  {
   "cell_type": "code",
   "execution_count": 8,
   "metadata": {},
   "outputs": [
    {
     "output_type": "execute_result",
     "data": {
      "text/plain": "  Category   Color Customer  Distance Important  Sales\n0     cat2     NaN      101       NaN         Y    123\n1     cat2     NaN      102       NaN         N     52\n2     cat1     NaN      103       NaN         Y    214\n3     cat3     NaN      104       NaN         Y    663\n0      NaN  yellow      101      12.0       NaN    123\n1      NaN   green      103       9.0       NaN    214\n2      NaN   green      103      44.0       NaN    663\n3      NaN    blue      105      21.0       NaN    331",
      "text/html": "<div>\n<style scoped>\n    .dataframe tbody tr th:only-of-type {\n        vertical-align: middle;\n    }\n\n    .dataframe tbody tr th {\n        vertical-align: top;\n    }\n\n    .dataframe thead th {\n        text-align: right;\n    }\n</style>\n<table border=\"1\" class=\"dataframe\">\n  <thead>\n    <tr style=\"text-align: right;\">\n      <th></th>\n      <th>Category</th>\n      <th>Color</th>\n      <th>Customer</th>\n      <th>Distance</th>\n      <th>Important</th>\n      <th>Sales</th>\n    </tr>\n  </thead>\n  <tbody>\n    <tr>\n      <th>0</th>\n      <td>cat2</td>\n      <td>NaN</td>\n      <td>101</td>\n      <td>NaN</td>\n      <td>Y</td>\n      <td>123</td>\n    </tr>\n    <tr>\n      <th>1</th>\n      <td>cat2</td>\n      <td>NaN</td>\n      <td>102</td>\n      <td>NaN</td>\n      <td>N</td>\n      <td>52</td>\n    </tr>\n    <tr>\n      <th>2</th>\n      <td>cat1</td>\n      <td>NaN</td>\n      <td>103</td>\n      <td>NaN</td>\n      <td>Y</td>\n      <td>214</td>\n    </tr>\n    <tr>\n      <th>3</th>\n      <td>cat3</td>\n      <td>NaN</td>\n      <td>104</td>\n      <td>NaN</td>\n      <td>Y</td>\n      <td>663</td>\n    </tr>\n    <tr>\n      <th>0</th>\n      <td>NaN</td>\n      <td>yellow</td>\n      <td>101</td>\n      <td>12.0</td>\n      <td>NaN</td>\n      <td>123</td>\n    </tr>\n    <tr>\n      <th>1</th>\n      <td>NaN</td>\n      <td>green</td>\n      <td>103</td>\n      <td>9.0</td>\n      <td>NaN</td>\n      <td>214</td>\n    </tr>\n    <tr>\n      <th>2</th>\n      <td>NaN</td>\n      <td>green</td>\n      <td>103</td>\n      <td>44.0</td>\n      <td>NaN</td>\n      <td>663</td>\n    </tr>\n    <tr>\n      <th>3</th>\n      <td>NaN</td>\n      <td>blue</td>\n      <td>105</td>\n      <td>21.0</td>\n      <td>NaN</td>\n      <td>331</td>\n    </tr>\n  </tbody>\n</table>\n</div>"
     },
     "metadata": {},
     "execution_count": 8
    }
   ],
   "source": [
    "pd.concat([df3,df4],axis=0,sort=True)"
   ]
  },
  {
   "cell_type": "code",
   "execution_count": 9,
   "metadata": {},
   "outputs": [
    {
     "output_type": "execute_result",
     "data": {
      "text/plain": "  Customer Category Important  Sales Customer   Color  Distance  Sales\n0      101     cat2         Y    123      101  yellow        12    123\n1      102     cat2         N     52      103   green         9    214\n2      103     cat1         Y    214      103   green        44    663\n3      104     cat3         Y    663      105    blue        21    331",
      "text/html": "<div>\n<style scoped>\n    .dataframe tbody tr th:only-of-type {\n        vertical-align: middle;\n    }\n\n    .dataframe tbody tr th {\n        vertical-align: top;\n    }\n\n    .dataframe thead th {\n        text-align: right;\n    }\n</style>\n<table border=\"1\" class=\"dataframe\">\n  <thead>\n    <tr style=\"text-align: right;\">\n      <th></th>\n      <th>Customer</th>\n      <th>Category</th>\n      <th>Important</th>\n      <th>Sales</th>\n      <th>Customer</th>\n      <th>Color</th>\n      <th>Distance</th>\n      <th>Sales</th>\n    </tr>\n  </thead>\n  <tbody>\n    <tr>\n      <th>0</th>\n      <td>101</td>\n      <td>cat2</td>\n      <td>Y</td>\n      <td>123</td>\n      <td>101</td>\n      <td>yellow</td>\n      <td>12</td>\n      <td>123</td>\n    </tr>\n    <tr>\n      <th>1</th>\n      <td>102</td>\n      <td>cat2</td>\n      <td>N</td>\n      <td>52</td>\n      <td>103</td>\n      <td>green</td>\n      <td>9</td>\n      <td>214</td>\n    </tr>\n    <tr>\n      <th>2</th>\n      <td>103</td>\n      <td>cat1</td>\n      <td>Y</td>\n      <td>214</td>\n      <td>103</td>\n      <td>green</td>\n      <td>44</td>\n      <td>663</td>\n    </tr>\n    <tr>\n      <th>3</th>\n      <td>104</td>\n      <td>cat3</td>\n      <td>Y</td>\n      <td>663</td>\n      <td>105</td>\n      <td>blue</td>\n      <td>21</td>\n      <td>331</td>\n    </tr>\n  </tbody>\n</table>\n</div>"
     },
     "metadata": {},
     "execution_count": 9
    }
   ],
   "source": [
    "pd.concat([df3,df4],axis=1,sort=True)"
   ]
  },
  {
   "cell_type": "markdown",
   "metadata": {},
   "source": [
    "<h2>Merge and Join</h2>"
   ]
  },
  {
   "cell_type": "code",
   "execution_count": 25,
   "metadata": {},
   "outputs": [
    {
     "output_type": "execute_result",
     "data": {
      "text/plain": "  Customer Category Important  Sales   Color  Distance\n0      101     cat2         Y    123  yellow      12.0\n1      102     cat2         N     52     NaN       NaN\n2      103     cat1         Y    214   green       9.0\n3      104     cat3         Y    663     NaN       NaN\n4      103      NaN       NaN    663   green      44.0\n5      105      NaN       NaN    331    blue      21.0",
      "text/html": "<div>\n<style scoped>\n    .dataframe tbody tr th:only-of-type {\n        vertical-align: middle;\n    }\n\n    .dataframe tbody tr th {\n        vertical-align: top;\n    }\n\n    .dataframe thead th {\n        text-align: right;\n    }\n</style>\n<table border=\"1\" class=\"dataframe\">\n  <thead>\n    <tr style=\"text-align: right;\">\n      <th></th>\n      <th>Customer</th>\n      <th>Category</th>\n      <th>Important</th>\n      <th>Sales</th>\n      <th>Color</th>\n      <th>Distance</th>\n    </tr>\n  </thead>\n  <tbody>\n    <tr>\n      <th>0</th>\n      <td>101</td>\n      <td>cat2</td>\n      <td>Y</td>\n      <td>123</td>\n      <td>yellow</td>\n      <td>12.0</td>\n    </tr>\n    <tr>\n      <th>1</th>\n      <td>102</td>\n      <td>cat2</td>\n      <td>N</td>\n      <td>52</td>\n      <td>NaN</td>\n      <td>NaN</td>\n    </tr>\n    <tr>\n      <th>2</th>\n      <td>103</td>\n      <td>cat1</td>\n      <td>Y</td>\n      <td>214</td>\n      <td>green</td>\n      <td>9.0</td>\n    </tr>\n    <tr>\n      <th>3</th>\n      <td>104</td>\n      <td>cat3</td>\n      <td>Y</td>\n      <td>663</td>\n      <td>NaN</td>\n      <td>NaN</td>\n    </tr>\n    <tr>\n      <th>4</th>\n      <td>103</td>\n      <td>NaN</td>\n      <td>NaN</td>\n      <td>663</td>\n      <td>green</td>\n      <td>44.0</td>\n    </tr>\n    <tr>\n      <th>5</th>\n      <td>105</td>\n      <td>NaN</td>\n      <td>NaN</td>\n      <td>331</td>\n      <td>blue</td>\n      <td>21.0</td>\n    </tr>\n  </tbody>\n</table>\n</div>"
     },
     "metadata": {},
     "execution_count": 25
    }
   ],
   "source": [
    "pd.merge(df3,df4,how='outer')"
   ]
  },
  {
   "cell_type": "code",
   "execution_count": 26,
   "metadata": {},
   "outputs": [
    {
     "output_type": "execute_result",
     "data": {
      "text/plain": "  Customer Category Important  Sales   Color  Distance\n0      101     cat2         Y    123  yellow        12\n1      103     cat1         Y    214   green         9",
      "text/html": "<div>\n<style scoped>\n    .dataframe tbody tr th:only-of-type {\n        vertical-align: middle;\n    }\n\n    .dataframe tbody tr th {\n        vertical-align: top;\n    }\n\n    .dataframe thead th {\n        text-align: right;\n    }\n</style>\n<table border=\"1\" class=\"dataframe\">\n  <thead>\n    <tr style=\"text-align: right;\">\n      <th></th>\n      <th>Customer</th>\n      <th>Category</th>\n      <th>Important</th>\n      <th>Sales</th>\n      <th>Color</th>\n      <th>Distance</th>\n    </tr>\n  </thead>\n  <tbody>\n    <tr>\n      <th>0</th>\n      <td>101</td>\n      <td>cat2</td>\n      <td>Y</td>\n      <td>123</td>\n      <td>yellow</td>\n      <td>12</td>\n    </tr>\n    <tr>\n      <th>1</th>\n      <td>103</td>\n      <td>cat1</td>\n      <td>Y</td>\n      <td>214</td>\n      <td>green</td>\n      <td>9</td>\n    </tr>\n  </tbody>\n</table>\n</div>"
     },
     "metadata": {},
     "execution_count": 26
    }
   ],
   "source": [
    "pd.merge(df3,df4,how='inner')"
   ]
  },
  {
   "cell_type": "code",
   "execution_count": 27,
   "metadata": {},
   "outputs": [
    {
     "output_type": "execute_result",
     "data": {
      "text/plain": "  Customer Category Important  Sales   Color  Distance\n0      101     cat2         Y    123  yellow      12.0\n1      102     cat2         N     52     NaN       NaN\n2      103     cat1         Y    214   green       9.0\n3      104     cat3         Y    663     NaN       NaN",
      "text/html": "<div>\n<style scoped>\n    .dataframe tbody tr th:only-of-type {\n        vertical-align: middle;\n    }\n\n    .dataframe tbody tr th {\n        vertical-align: top;\n    }\n\n    .dataframe thead th {\n        text-align: right;\n    }\n</style>\n<table border=\"1\" class=\"dataframe\">\n  <thead>\n    <tr style=\"text-align: right;\">\n      <th></th>\n      <th>Customer</th>\n      <th>Category</th>\n      <th>Important</th>\n      <th>Sales</th>\n      <th>Color</th>\n      <th>Distance</th>\n    </tr>\n  </thead>\n  <tbody>\n    <tr>\n      <th>0</th>\n      <td>101</td>\n      <td>cat2</td>\n      <td>Y</td>\n      <td>123</td>\n      <td>yellow</td>\n      <td>12.0</td>\n    </tr>\n    <tr>\n      <th>1</th>\n      <td>102</td>\n      <td>cat2</td>\n      <td>N</td>\n      <td>52</td>\n      <td>NaN</td>\n      <td>NaN</td>\n    </tr>\n    <tr>\n      <th>2</th>\n      <td>103</td>\n      <td>cat1</td>\n      <td>Y</td>\n      <td>214</td>\n      <td>green</td>\n      <td>9.0</td>\n    </tr>\n    <tr>\n      <th>3</th>\n      <td>104</td>\n      <td>cat3</td>\n      <td>Y</td>\n      <td>663</td>\n      <td>NaN</td>\n      <td>NaN</td>\n    </tr>\n  </tbody>\n</table>\n</div>"
     },
     "metadata": {},
     "execution_count": 27
    }
   ],
   "source": [
    "pd.merge(df3,df4,how='left')"
   ]
  },
  {
   "cell_type": "code",
   "execution_count": 28,
   "metadata": {},
   "outputs": [
    {
     "output_type": "execute_result",
     "data": {
      "text/plain": "  Customer Category Important  Sales   Color  Distance\n0      101     cat2         Y    123  yellow        12\n1      103     cat1         Y    214   green         9\n2      103      NaN       NaN    663   green        44\n3      105      NaN       NaN    331    blue        21",
      "text/html": "<div>\n<style scoped>\n    .dataframe tbody tr th:only-of-type {\n        vertical-align: middle;\n    }\n\n    .dataframe tbody tr th {\n        vertical-align: top;\n    }\n\n    .dataframe thead th {\n        text-align: right;\n    }\n</style>\n<table border=\"1\" class=\"dataframe\">\n  <thead>\n    <tr style=\"text-align: right;\">\n      <th></th>\n      <th>Customer</th>\n      <th>Category</th>\n      <th>Important</th>\n      <th>Sales</th>\n      <th>Color</th>\n      <th>Distance</th>\n    </tr>\n  </thead>\n  <tbody>\n    <tr>\n      <th>0</th>\n      <td>101</td>\n      <td>cat2</td>\n      <td>Y</td>\n      <td>123</td>\n      <td>yellow</td>\n      <td>12</td>\n    </tr>\n    <tr>\n      <th>1</th>\n      <td>103</td>\n      <td>cat1</td>\n      <td>Y</td>\n      <td>214</td>\n      <td>green</td>\n      <td>9</td>\n    </tr>\n    <tr>\n      <th>2</th>\n      <td>103</td>\n      <td>NaN</td>\n      <td>NaN</td>\n      <td>663</td>\n      <td>green</td>\n      <td>44</td>\n    </tr>\n    <tr>\n      <th>3</th>\n      <td>105</td>\n      <td>NaN</td>\n      <td>NaN</td>\n      <td>331</td>\n      <td>blue</td>\n      <td>21</td>\n    </tr>\n  </tbody>\n</table>\n</div>"
     },
     "metadata": {},
     "execution_count": 28
    }
   ],
   "source": [
    "pd.merge(df3,df4,how='right')"
   ]
  },
  {
   "cell_type": "code",
   "execution_count": 9,
   "metadata": {},
   "outputs": [],
   "source": [
    "df5 = pd.DataFrame({'Q1':[101,102,103],\n",
    "                    'Q2':[201,202,201]},\n",
    "                    index=['I0','I1','I2'])\n",
    "df6 = pd.DataFrame({'Q3':[301,302,303],\n",
    "                    'Q4':[401,402,401]},\n",
    "                    index=['I0','I2','I3'])"
   ]
  },
  {
   "cell_type": "code",
   "execution_count": 37,
   "metadata": {},
   "outputs": [
    {
     "output_type": "execute_result",
     "data": {
      "text/plain": "       Q1     Q2     Q3     Q4\nI0  101.0  201.0  301.0  401.0\nI1  102.0  202.0    NaN    NaN\nI2  103.0  201.0  302.0  402.0\nI3    NaN    NaN  303.0  401.0",
      "text/html": "<div>\n<style scoped>\n    .dataframe tbody tr th:only-of-type {\n        vertical-align: middle;\n    }\n\n    .dataframe tbody tr th {\n        vertical-align: top;\n    }\n\n    .dataframe thead th {\n        text-align: right;\n    }\n</style>\n<table border=\"1\" class=\"dataframe\">\n  <thead>\n    <tr style=\"text-align: right;\">\n      <th></th>\n      <th>Q1</th>\n      <th>Q2</th>\n      <th>Q3</th>\n      <th>Q4</th>\n    </tr>\n  </thead>\n  <tbody>\n    <tr>\n      <th>I0</th>\n      <td>101.0</td>\n      <td>201.0</td>\n      <td>301.0</td>\n      <td>401.0</td>\n    </tr>\n    <tr>\n      <th>I1</th>\n      <td>102.0</td>\n      <td>202.0</td>\n      <td>NaN</td>\n      <td>NaN</td>\n    </tr>\n    <tr>\n      <th>I2</th>\n      <td>103.0</td>\n      <td>201.0</td>\n      <td>302.0</td>\n      <td>402.0</td>\n    </tr>\n    <tr>\n      <th>I3</th>\n      <td>NaN</td>\n      <td>NaN</td>\n      <td>303.0</td>\n      <td>401.0</td>\n    </tr>\n  </tbody>\n</table>\n</div>"
     },
     "metadata": {},
     "execution_count": 37
    }
   ],
   "source": [
    "df5.join(df6,how='outer')"
   ]
  },
  {
   "cell_type": "code",
   "execution_count": 38,
   "metadata": {},
   "outputs": [
    {
     "output_type": "execute_result",
     "data": {
      "text/plain": "     Q1   Q2   Q3   Q4\nI0  101  201  301  401\nI2  103  201  302  402",
      "text/html": "<div>\n<style scoped>\n    .dataframe tbody tr th:only-of-type {\n        vertical-align: middle;\n    }\n\n    .dataframe tbody tr th {\n        vertical-align: top;\n    }\n\n    .dataframe thead th {\n        text-align: right;\n    }\n</style>\n<table border=\"1\" class=\"dataframe\">\n  <thead>\n    <tr style=\"text-align: right;\">\n      <th></th>\n      <th>Q1</th>\n      <th>Q2</th>\n      <th>Q3</th>\n      <th>Q4</th>\n    </tr>\n  </thead>\n  <tbody>\n    <tr>\n      <th>I0</th>\n      <td>101</td>\n      <td>201</td>\n      <td>301</td>\n      <td>401</td>\n    </tr>\n    <tr>\n      <th>I2</th>\n      <td>103</td>\n      <td>201</td>\n      <td>302</td>\n      <td>402</td>\n    </tr>\n  </tbody>\n</table>\n</div>"
     },
     "metadata": {},
     "execution_count": 38
    }
   ],
   "source": [
    "df5.join(df6,how='inner')"
   ]
  },
  {
   "cell_type": "code",
   "execution_count": 6,
   "metadata": {},
   "outputs": [
    {
     "output_type": "execute_result",
     "data": {
      "text/plain": "array(['yellow', 'green', 'blue'], dtype=object)"
     },
     "metadata": {},
     "execution_count": 6
    }
   ],
   "source": [
    "df4['Color'].unique()"
   ]
  },
  {
   "cell_type": "code",
   "execution_count": 7,
   "metadata": {},
   "outputs": [
    {
     "output_type": "execute_result",
     "data": {
      "text/plain": "green     2\nblue      1\nyellow    1\nName: Color, dtype: int64"
     },
     "metadata": {},
     "execution_count": 7
    }
   ],
   "source": [
    "df4['Color'].value_counts()"
   ]
  },
  {
   "cell_type": "code",
   "execution_count": 10,
   "metadata": {},
   "outputs": [
    {
     "output_type": "execute_result",
     "data": {
      "text/plain": "Q1    102.000000\nQ2    201.333333\ndtype: float64"
     },
     "metadata": {},
     "execution_count": 10
    }
   ],
   "source": [
    "df5.mean()"
   ]
  },
  {
   "cell_type": "code",
   "execution_count": 12,
   "metadata": {},
   "outputs": [
    {
     "output_type": "execute_result",
     "data": {
      "text/plain": "  Customer   Color  Distance  Sales\n0      101  yellow        12    123",
      "text/html": "<div>\n<style scoped>\n    .dataframe tbody tr th:only-of-type {\n        vertical-align: middle;\n    }\n\n    .dataframe tbody tr th {\n        vertical-align: top;\n    }\n\n    .dataframe thead th {\n        text-align: right;\n    }\n</style>\n<table border=\"1\" class=\"dataframe\">\n  <thead>\n    <tr style=\"text-align: right;\">\n      <th></th>\n      <th>Customer</th>\n      <th>Color</th>\n      <th>Distance</th>\n      <th>Sales</th>\n    </tr>\n  </thead>\n  <tbody>\n    <tr>\n      <th>0</th>\n      <td>101</td>\n      <td>yellow</td>\n      <td>12</td>\n      <td>123</td>\n    </tr>\n  </tbody>\n</table>\n</div>"
     },
     "metadata": {},
     "execution_count": 12
    }
   ],
   "source": [
    "new_df = df4[(df4['Customer']!='105')&(df4['Color']!='green')]\n",
    "new_df"
   ]
  },
  {
   "cell_type": "code",
   "execution_count": 15,
   "metadata": {},
   "outputs": [
    {
     "output_type": "stream",
     "name": "stdout",
     "text": "332.75 1331\n9\n"
    }
   ],
   "source": [
    "print(df4['Sales'].mean(),df4['Sales'].sum())\n",
    "print(df4['Distance'].min())"
   ]
  },
  {
   "cell_type": "code",
   "execution_count": 17,
   "metadata": {},
   "outputs": [],
   "source": [
    "def profit(s):\n",
    "    return s*0.5"
   ]
  },
  {
   "cell_type": "code",
   "execution_count": 18,
   "metadata": {},
   "outputs": [
    {
     "output_type": "execute_result",
     "data": {
      "text/plain": "0     61.5\n1    107.0\n2    331.5\n3    165.5\nName: Sales, dtype: float64"
     },
     "metadata": {},
     "execution_count": 18
    }
   ],
   "source": [
    "df4['Sales'].apply(profit)"
   ]
  },
  {
   "cell_type": "code",
   "execution_count": 20,
   "metadata": {},
   "outputs": [
    {
     "output_type": "execute_result",
     "data": {
      "text/plain": "   Distance  Sales\n0       6.0   61.5\n1       4.5  107.0\n2      22.0  331.5\n3      10.5  165.5",
      "text/html": "<div>\n<style scoped>\n    .dataframe tbody tr th:only-of-type {\n        vertical-align: middle;\n    }\n\n    .dataframe tbody tr th {\n        vertical-align: top;\n    }\n\n    .dataframe thead th {\n        text-align: right;\n    }\n</style>\n<table border=\"1\" class=\"dataframe\">\n  <thead>\n    <tr style=\"text-align: right;\">\n      <th></th>\n      <th>Distance</th>\n      <th>Sales</th>\n    </tr>\n  </thead>\n  <tbody>\n    <tr>\n      <th>0</th>\n      <td>6.0</td>\n      <td>61.5</td>\n    </tr>\n    <tr>\n      <th>1</th>\n      <td>4.5</td>\n      <td>107.0</td>\n    </tr>\n    <tr>\n      <th>2</th>\n      <td>22.0</td>\n      <td>331.5</td>\n    </tr>\n    <tr>\n      <th>3</th>\n      <td>10.5</td>\n      <td>165.5</td>\n    </tr>\n  </tbody>\n</table>\n</div>"
     },
     "metadata": {},
     "execution_count": 20
    }
   ],
   "source": [
    "df7 = df4[['Distance','Sales']]\n",
    "df7.applymap(profit) #applymap works entry by entry only in dataframe"
   ]
  },
  {
   "cell_type": "code",
   "execution_count": 21,
   "metadata": {},
   "outputs": [
    {
     "output_type": "execute_result",
     "data": {
      "text/plain": "Distance      86\nSales       1331\ndtype: int64"
     },
     "metadata": {},
     "execution_count": 21
    }
   ],
   "source": [
    "def col_sum(co):\n",
    "    return sum(co)\n",
    "df7.apply(col_sum)"
   ]
  },
  {
   "cell_type": "code",
   "execution_count": 22,
   "metadata": {},
   "outputs": [
    {
     "output_type": "execute_result",
     "data": {
      "text/plain": "  Customer   Color  Distance  Sales\n1      103   green         9    214\n0      101  yellow        12    123\n3      105    blue        21    331\n2      103   green        44    663",
      "text/html": "<div>\n<style scoped>\n    .dataframe tbody tr th:only-of-type {\n        vertical-align: middle;\n    }\n\n    .dataframe tbody tr th {\n        vertical-align: top;\n    }\n\n    .dataframe thead th {\n        text-align: right;\n    }\n</style>\n<table border=\"1\" class=\"dataframe\">\n  <thead>\n    <tr style=\"text-align: right;\">\n      <th></th>\n      <th>Customer</th>\n      <th>Color</th>\n      <th>Distance</th>\n      <th>Sales</th>\n    </tr>\n  </thead>\n  <tbody>\n    <tr>\n      <th>1</th>\n      <td>103</td>\n      <td>green</td>\n      <td>9</td>\n      <td>214</td>\n    </tr>\n    <tr>\n      <th>0</th>\n      <td>101</td>\n      <td>yellow</td>\n      <td>12</td>\n      <td>123</td>\n    </tr>\n    <tr>\n      <th>3</th>\n      <td>105</td>\n      <td>blue</td>\n      <td>21</td>\n      <td>331</td>\n    </tr>\n    <tr>\n      <th>2</th>\n      <td>103</td>\n      <td>green</td>\n      <td>44</td>\n      <td>663</td>\n    </tr>\n  </tbody>\n</table>\n</div>"
     },
     "metadata": {},
     "execution_count": 22
    }
   ],
   "source": [
    "df4.sort_values(by='Distance')"
   ]
  },
  {
   "cell_type": "code",
   "execution_count": 26,
   "metadata": {},
   "outputs": [
    {
     "output_type": "execute_result",
     "data": {
      "text/plain": "             customer  product1  product2\npurchase 1  customer1       1.1      8.20\npurchase 2  customer1       2.1      9.10\npurchase 3  customer2       3.8     11.10\npurchase 4  customer2       4.2      5.20\npurchase 5  customer3       5.5     44.66\npurchase 6  customer3       6.9    983.00",
      "text/html": "<div>\n<style scoped>\n    .dataframe tbody tr th:only-of-type {\n        vertical-align: middle;\n    }\n\n    .dataframe tbody tr th {\n        vertical-align: top;\n    }\n\n    .dataframe thead th {\n        text-align: right;\n    }\n</style>\n<table border=\"1\" class=\"dataframe\">\n  <thead>\n    <tr style=\"text-align: right;\">\n      <th></th>\n      <th>customer</th>\n      <th>product1</th>\n      <th>product2</th>\n    </tr>\n  </thead>\n  <tbody>\n    <tr>\n      <th>purchase 1</th>\n      <td>customer1</td>\n      <td>1.1</td>\n      <td>8.20</td>\n    </tr>\n    <tr>\n      <th>purchase 2</th>\n      <td>customer1</td>\n      <td>2.1</td>\n      <td>9.10</td>\n    </tr>\n    <tr>\n      <th>purchase 3</th>\n      <td>customer2</td>\n      <td>3.8</td>\n      <td>11.10</td>\n    </tr>\n    <tr>\n      <th>purchase 4</th>\n      <td>customer2</td>\n      <td>4.2</td>\n      <td>5.20</td>\n    </tr>\n    <tr>\n      <th>purchase 5</th>\n      <td>customer3</td>\n      <td>5.5</td>\n      <td>44.66</td>\n    </tr>\n    <tr>\n      <th>purchase 6</th>\n      <td>customer3</td>\n      <td>6.9</td>\n      <td>983.00</td>\n    </tr>\n  </tbody>\n</table>\n</div>"
     },
     "metadata": {},
     "execution_count": 26
    }
   ],
   "source": [
    "mydict = {'customer':['customer1','customer1','customer2','customer2','customer3','customer3'],'product1':[1.1,2.1,3.8,4.2,5.5,6.9],'product2':[8.2,9.1,11.1,5.2,44.66,983]}\n",
    "df8 = pd.DataFrame(mydict,index=['purchase 1','purchase 2','purchase 3','purchase 4','purchase 5','purchase 6'])\n",
    "df8"
   ]
  },
  {
   "cell_type": "code",
   "execution_count": 30,
   "metadata": {},
   "outputs": [
    {
     "output_type": "execute_result",
     "data": {
      "text/plain": "          product1                                           product2          \\\n             count mean       std  min   25%  50%   75%  max    count    mean   \ncustomer                                                                        \ncustomer1      2.0  1.6  0.707107  1.1  1.35  1.6  1.85  2.1      2.0    8.65   \ncustomer2      2.0  4.0  0.282843  3.8  3.90  4.0  4.10  4.2      2.0    8.15   \ncustomer3      2.0  6.2  0.989949  5.5  5.85  6.2  6.55  6.9      2.0  513.83   \n\n                                                               \n                  std    min      25%     50%      75%    max  \ncustomer                                                       \ncustomer1    0.636396   8.20    8.425    8.65    8.875    9.1  \ncustomer2    4.171930   5.20    6.675    8.15    9.625   11.1  \ncustomer3  663.506577  44.66  279.245  513.83  748.415  983.0  ",
      "text/html": "<div>\n<style scoped>\n    .dataframe tbody tr th:only-of-type {\n        vertical-align: middle;\n    }\n\n    .dataframe tbody tr th {\n        vertical-align: top;\n    }\n\n    .dataframe thead tr th {\n        text-align: left;\n    }\n\n    .dataframe thead tr:last-of-type th {\n        text-align: right;\n    }\n</style>\n<table border=\"1\" class=\"dataframe\">\n  <thead>\n    <tr>\n      <th></th>\n      <th colspan=\"8\" halign=\"left\">product1</th>\n      <th colspan=\"8\" halign=\"left\">product2</th>\n    </tr>\n    <tr>\n      <th></th>\n      <th>count</th>\n      <th>mean</th>\n      <th>std</th>\n      <th>min</th>\n      <th>25%</th>\n      <th>50%</th>\n      <th>75%</th>\n      <th>max</th>\n      <th>count</th>\n      <th>mean</th>\n      <th>std</th>\n      <th>min</th>\n      <th>25%</th>\n      <th>50%</th>\n      <th>75%</th>\n      <th>max</th>\n    </tr>\n    <tr>\n      <th>customer</th>\n      <th></th>\n      <th></th>\n      <th></th>\n      <th></th>\n      <th></th>\n      <th></th>\n      <th></th>\n      <th></th>\n      <th></th>\n      <th></th>\n      <th></th>\n      <th></th>\n      <th></th>\n      <th></th>\n      <th></th>\n      <th></th>\n    </tr>\n  </thead>\n  <tbody>\n    <tr>\n      <th>customer1</th>\n      <td>2.0</td>\n      <td>1.6</td>\n      <td>0.707107</td>\n      <td>1.1</td>\n      <td>1.35</td>\n      <td>1.6</td>\n      <td>1.85</td>\n      <td>2.1</td>\n      <td>2.0</td>\n      <td>8.65</td>\n      <td>0.636396</td>\n      <td>8.20</td>\n      <td>8.425</td>\n      <td>8.65</td>\n      <td>8.875</td>\n      <td>9.1</td>\n    </tr>\n    <tr>\n      <th>customer2</th>\n      <td>2.0</td>\n      <td>4.0</td>\n      <td>0.282843</td>\n      <td>3.8</td>\n      <td>3.90</td>\n      <td>4.0</td>\n      <td>4.10</td>\n      <td>4.2</td>\n      <td>2.0</td>\n      <td>8.15</td>\n      <td>4.171930</td>\n      <td>5.20</td>\n      <td>6.675</td>\n      <td>8.15</td>\n      <td>9.625</td>\n      <td>11.1</td>\n    </tr>\n    <tr>\n      <th>customer3</th>\n      <td>2.0</td>\n      <td>6.2</td>\n      <td>0.989949</td>\n      <td>5.5</td>\n      <td>5.85</td>\n      <td>6.2</td>\n      <td>6.55</td>\n      <td>6.9</td>\n      <td>2.0</td>\n      <td>513.83</td>\n      <td>663.506577</td>\n      <td>44.66</td>\n      <td>279.245</td>\n      <td>513.83</td>\n      <td>748.415</td>\n      <td>983.0</td>\n    </tr>\n  </tbody>\n</table>\n</div>"
     },
     "metadata": {},
     "execution_count": 30
    }
   ],
   "source": [
    "grouped_data = df8.groupby('customer')\n",
    "grouped_data.describe()"
   ]
  },
  {
   "cell_type": "code",
   "execution_count": 31,
   "metadata": {},
   "outputs": [
    {
     "output_type": "execute_result",
     "data": {
      "text/plain": "           product1  product2\ncustomer                     \ncustomer1       1.6      8.65\ncustomer2       4.0      8.15\ncustomer3       6.2    513.83",
      "text/html": "<div>\n<style scoped>\n    .dataframe tbody tr th:only-of-type {\n        vertical-align: middle;\n    }\n\n    .dataframe tbody tr th {\n        vertical-align: top;\n    }\n\n    .dataframe thead th {\n        text-align: right;\n    }\n</style>\n<table border=\"1\" class=\"dataframe\">\n  <thead>\n    <tr style=\"text-align: right;\">\n      <th></th>\n      <th>product1</th>\n      <th>product2</th>\n    </tr>\n    <tr>\n      <th>customer</th>\n      <th></th>\n      <th></th>\n    </tr>\n  </thead>\n  <tbody>\n    <tr>\n      <th>customer1</th>\n      <td>1.6</td>\n      <td>8.65</td>\n    </tr>\n    <tr>\n      <th>customer2</th>\n      <td>4.0</td>\n      <td>8.15</td>\n    </tr>\n    <tr>\n      <th>customer3</th>\n      <td>6.2</td>\n      <td>513.83</td>\n    </tr>\n  </tbody>\n</table>\n</div>"
     },
     "metadata": {},
     "execution_count": 31
    }
   ],
   "source": [
    "grouped_data.mean()"
   ]
  },
  {
   "cell_type": "code",
   "execution_count": 42,
   "metadata": {},
   "outputs": [],
   "source": [
    "df4.to_csv('df4.csv',index=True)"
   ]
  },
  {
   "cell_type": "code",
   "execution_count": 44,
   "metadata": {},
   "outputs": [
    {
     "output_type": "execute_result",
     "data": {
      "text/plain": "   Customer  Distance  Sales\n0       101        12    123\n1       103         9    214\n2       103        44    663\n3       105        21    331",
      "text/html": "<div>\n<style scoped>\n    .dataframe tbody tr th:only-of-type {\n        vertical-align: middle;\n    }\n\n    .dataframe tbody tr th {\n        vertical-align: top;\n    }\n\n    .dataframe thead th {\n        text-align: right;\n    }\n</style>\n<table border=\"1\" class=\"dataframe\">\n  <thead>\n    <tr style=\"text-align: right;\">\n      <th></th>\n      <th>Customer</th>\n      <th>Distance</th>\n      <th>Sales</th>\n    </tr>\n  </thead>\n  <tbody>\n    <tr>\n      <th>0</th>\n      <td>101</td>\n      <td>12</td>\n      <td>123</td>\n    </tr>\n    <tr>\n      <th>1</th>\n      <td>103</td>\n      <td>9</td>\n      <td>214</td>\n    </tr>\n    <tr>\n      <th>2</th>\n      <td>103</td>\n      <td>44</td>\n      <td>663</td>\n    </tr>\n    <tr>\n      <th>3</th>\n      <td>105</td>\n      <td>21</td>\n      <td>331</td>\n    </tr>\n  </tbody>\n</table>\n</div>"
     },
     "metadata": {},
     "execution_count": 44
    }
   ],
   "source": [
    "new_df4 = pd.read_csv('df4.csv',index_col=0)\n",
    "new_df4"
   ]
  },
  {
   "cell_type": "code",
   "execution_count": 50,
   "metadata": {},
   "outputs": [
    {
     "output_type": "execute_result",
     "data": {
      "text/plain": "          Distance  Sales\nCustomer                 \n101             12    123\n103              9    214\n103             44    663\n105             21    331",
      "text/html": "<div>\n<style scoped>\n    .dataframe tbody tr th:only-of-type {\n        vertical-align: middle;\n    }\n\n    .dataframe tbody tr th {\n        vertical-align: top;\n    }\n\n    .dataframe thead th {\n        text-align: right;\n    }\n</style>\n<table border=\"1\" class=\"dataframe\">\n  <thead>\n    <tr style=\"text-align: right;\">\n      <th></th>\n      <th>Distance</th>\n      <th>Sales</th>\n    </tr>\n    <tr>\n      <th>Customer</th>\n      <th></th>\n      <th></th>\n    </tr>\n  </thead>\n  <tbody>\n    <tr>\n      <th>101</th>\n      <td>12</td>\n      <td>123</td>\n    </tr>\n    <tr>\n      <th>103</th>\n      <td>9</td>\n      <td>214</td>\n    </tr>\n    <tr>\n      <th>103</th>\n      <td>44</td>\n      <td>663</td>\n    </tr>\n    <tr>\n      <th>105</th>\n      <td>21</td>\n      <td>331</td>\n    </tr>\n  </tbody>\n</table>\n</div>"
     },
     "metadata": {},
     "execution_count": 50
    }
   ],
   "source": [
    "df4.to_excel('df4.xlsx',index=False,sheet_name='First Sheet')\n",
    "new_df4_exl = pd.read_excel('df4.xlsx',sheet_name='First Sheet',index_col=0)\n",
    "new_df4_exl"
   ]
  },
  {
   "cell_type": "code",
   "execution_count": null,
   "metadata": {},
   "outputs": [],
   "source": []
  }
 ],
 "metadata": {
  "language_info": {
   "codemirror_mode": {
    "name": "ipython",
    "version": 3
   },
   "file_extension": ".py",
   "mimetype": "text/x-python",
   "name": "python",
   "nbconvert_exporter": "python",
   "pygments_lexer": "ipython3",
   "version": "3.7.7-final"
  },
  "orig_nbformat": 2,
  "kernelspec": {
   "name": "python37464bitbaseconda033f0f3c5f3746edbc02791a490482bd",
   "display_name": "Python 3.7.4 64-bit ('base': conda)"
  }
 },
 "nbformat": 4,
 "nbformat_minor": 2
}