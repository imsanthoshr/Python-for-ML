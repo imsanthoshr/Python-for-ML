{
 "cells": [
  {
   "cell_type": "markdown",
   "metadata": {},
   "source": [
    "# List"
   ]
  },
  {
   "cell_type": "code",
   "execution_count": 11,
   "metadata": {},
   "outputs": [
    {
     "output_type": "stream",
     "name": "stdout",
     "text": "['sandy', 18, 'vasa', 20, 'santho', 19, 'Mrgreedy', 'panruti', 2020]\n"
    },
    {
     "output_type": "execute_result",
     "data": {
      "text/plain": "list"
     },
     "metadata": {},
     "execution_count": 11
    }
   ],
   "source": [
    "mylist = ['sandy',18,'vasa',20,'santho',19,'Mrgreedy','panruti',2020]\n",
    "print(mylist)\n",
    "type(mylist)"
   ]
  },
  {
   "cell_type": "code",
   "execution_count": 12,
   "metadata": {},
   "outputs": [
    {
     "output_type": "stream",
     "name": "stdout",
     "text": "sandy\n[18, 'vasa']\n2020\n"
    }
   ],
   "source": [
    "print(mylist[0])\n",
    "print(mylist[1:3])\n",
    "print(mylist[-1])"
   ]
  },
  {
   "cell_type": "code",
   "execution_count": 24,
   "metadata": {},
   "outputs": [
    {
     "output_type": "execute_result",
     "data": {
      "text/plain": "[1, 2, 3, 4, 5, 2, 4, 1, 'A', 'B', 'C', 'D', 'E', 'F', 'G']"
     },
     "metadata": {},
     "execution_count": 24
    }
   ],
   "source": [
    "a = [1,2,3,4,5,2,4,1]\n",
    "b = ['A','B','C']\n",
    "c = ['D','E','F','G']\n",
    "a+b+c"
   ]
  },
  {
   "cell_type": "code",
   "execution_count": 25,
   "metadata": {},
   "outputs": [],
   "source": [
    "d = a+b"
   ]
  },
  {
   "cell_type": "code",
   "execution_count": 26,
   "metadata": {},
   "outputs": [
    {
     "output_type": "stream",
     "name": "stdout",
     "text": "[1, 2, 3, 4, 5, 2, 4, 1, 'A', 'B', 'C']\n"
    }
   ],
   "source": [
    "print(d)"
   ]
  },
  {
   "cell_type": "code",
   "execution_count": 27,
   "metadata": {},
   "outputs": [
    {
     "output_type": "stream",
     "name": "stdout",
     "text": "4\n"
    }
   ],
   "source": [
    "print(d[3])"
   ]
  },
  {
   "cell_type": "code",
   "execution_count": 14,
   "metadata": {},
   "outputs": [
    {
     "output_type": "execute_result",
     "data": {
      "text/plain": "9"
     },
     "metadata": {},
     "execution_count": 14
    }
   ],
   "source": [
    "len(mylist)"
   ]
  },
  {
   "cell_type": "code",
   "execution_count": 15,
   "metadata": {},
   "outputs": [
    {
     "output_type": "stream",
     "name": "stdout",
     "text": "['sandy', 18, 'vasa', 'santho', 19, 'Mrgreedy', 'panruti', 2020]\n"
    }
   ],
   "source": [
    "del(mylist[3])\n",
    "print(mylist)"
   ]
  },
  {
   "cell_type": "code",
   "execution_count": 16,
   "metadata": {},
   "outputs": [
    {
     "output_type": "execute_result",
     "data": {
      "text/plain": "['sandy', 18, 'vasa', 'santho', 19, 'Mrgreedy']"
     },
     "metadata": {},
     "execution_count": 16
    }
   ],
   "source": [
    "del mylist[-2:]\n",
    "mylist"
   ]
  },
  {
   "cell_type": "code",
   "execution_count": 17,
   "metadata": {},
   "outputs": [
    {
     "output_type": "execute_result",
     "data": {
      "text/plain": "['sandy', 'vasa', 'santho', 19, 'Mrgreedy']"
     },
     "metadata": {},
     "execution_count": 17
    }
   ],
   "source": [
    "mylist.remove(18)\n",
    "mylist"
   ]
  },
  {
   "cell_type": "code",
   "execution_count": 18,
   "metadata": {},
   "outputs": [
    {
     "output_type": "execute_result",
     "data": {
      "text/plain": "['sandy', 'vasa', 'santho', 19, 'Mrgreedy', 'siva']"
     },
     "metadata": {},
     "execution_count": 18
    }
   ],
   "source": [
    "mylist.append('siva')\n",
    "mylist"
   ]
  },
  {
   "cell_type": "code",
   "execution_count": 21,
   "metadata": {},
   "outputs": [
    {
     "output_type": "execute_result",
     "data": {
      "text/plain": "['sandy', 'vasa', 'santho', 19, 'Mrgreedy', 'siva', 'santho', 19]"
     },
     "metadata": {},
     "execution_count": 21
    }
   ],
   "source": [
    "mylist.append(19)\n",
    "mylist"
   ]
  },
  {
   "cell_type": "code",
   "execution_count": 23,
   "metadata": {},
   "outputs": [
    {
     "output_type": "execute_result",
     "data": {
      "text/plain": "['sandy', 'vasa', 'santho', 'Mrgreedy', 'siva', 'santho', 19]"
     },
     "metadata": {},
     "execution_count": 23
    }
   ],
   "source": [
    "mylist.pop(3)\n",
    "mylist"
   ]
  },
  {
   "cell_type": "code",
   "execution_count": 29,
   "metadata": {},
   "outputs": [
    {
     "output_type": "stream",
     "name": "stdout",
     "text": "['manipur', 'mumbai', 'pondy', 'delhi', 'chennai', 'goa']\n"
    }
   ],
   "source": [
    "city = ['manipur','mumbai','pondy','delhi','chennai','goa']\n",
    "print(city)\n"
   ]
  },
  {
   "cell_type": "code",
   "execution_count": 33,
   "metadata": {},
   "outputs": [
    {
     "output_type": "execute_result",
     "data": {
      "text/plain": "False"
     },
     "metadata": {},
     "execution_count": 33
    }
   ],
   "source": [
    "'bangalore' in city"
   ]
  },
  {
   "cell_type": "code",
   "execution_count": 34,
   "metadata": {},
   "outputs": [
    {
     "output_type": "execute_result",
     "data": {
      "text/plain": "True"
     },
     "metadata": {},
     "execution_count": 34
    }
   ],
   "source": [
    "'bangalore' not in city"
   ]
  },
  {
   "cell_type": "code",
   "execution_count": 31,
   "metadata": {},
   "outputs": [
    {
     "output_type": "execute_result",
     "data": {
      "text/plain": "True"
     },
     "metadata": {},
     "execution_count": 31
    }
   ],
   "source": [
    "'goa' in city"
   ]
  },
  {
   "cell_type": "code",
   "execution_count": 35,
   "metadata": {},
   "outputs": [
    {
     "output_type": "execute_result",
     "data": {
      "text/plain": "[1, 2, 3, 4, 5, 2, 4, 1]"
     },
     "metadata": {},
     "execution_count": 35
    }
   ],
   "source": [
    "a"
   ]
  },
  {
   "cell_type": "code",
   "execution_count": 36,
   "metadata": {},
   "outputs": [
    {
     "output_type": "stream",
     "name": "stdout",
     "text": "5\n1\n"
    }
   ],
   "source": [
    "print(max(a))\n",
    "print(min(a))"
   ]
  },
  {
   "cell_type": "code",
   "execution_count": 37,
   "metadata": {},
   "outputs": [
    {
     "output_type": "execute_result",
     "data": {
      "text/plain": "[1, 2, 3, 4, 5, 2, 4, 1, 20, 10, 8]"
     },
     "metadata": {},
     "execution_count": 37
    }
   ],
   "source": [
    "a.extend([20,10,8])\n",
    "a"
   ]
  },
  {
   "cell_type": "code",
   "execution_count": 38,
   "metadata": {},
   "outputs": [
    {
     "output_type": "execute_result",
     "data": {
      "text/plain": "[1, 2, 3, 4, 5, 6, 2, 4, 1, 20, 10, 8]"
     },
     "metadata": {},
     "execution_count": 38
    }
   ],
   "source": [
    "a.insert(5,6)\n",
    "a"
   ]
  },
  {
   "cell_type": "code",
   "execution_count": 39,
   "metadata": {},
   "outputs": [
    {
     "output_type": "stream",
     "name": "stdout",
     "text": "[1, 1, 2, 2, 3, 4, 4, 5, 6, 8, 10, 20]\n[1, 2, 3, 4, 5, 6, 2, 4, 1, 20, 10, 8]\n"
    }
   ],
   "source": [
    "print(sorted(a))\n",
    "print(a)"
   ]
  },
  {
   "cell_type": "code",
   "execution_count": 40,
   "metadata": {},
   "outputs": [
    {
     "output_type": "stream",
     "name": "stdout",
     "text": "[1, 2, 3, 4, 5, 6, 2, 4, 1, 20, 10, 8]\n[0, 2, 3, 4, 5, 6, 2, 4, 1, 20, 10, 8]\n"
    }
   ],
   "source": [
    "print(a)\n",
    "a[0]=0\n",
    "print(a)"
   ]
  },
  {
   "cell_type": "markdown",
   "metadata": {},
   "source": [
    "# Tuples"
   ]
  },
  {
   "cell_type": "code",
   "execution_count": 42,
   "metadata": {},
   "outputs": [
    {
     "output_type": "stream",
     "name": "stdout",
     "text": "('a', 1, 'b', 2, 'c', 3)\n"
    },
    {
     "output_type": "execute_result",
     "data": {
      "text/plain": "tuple"
     },
     "metadata": {},
     "execution_count": 42
    }
   ],
   "source": [
    "mytup = ('a',1,'b',2,'c',3)\n",
    "print(mytup)\n",
    "type(mytup)"
   ]
  },
  {
   "cell_type": "code",
   "execution_count": 43,
   "metadata": {},
   "outputs": [
    {
     "output_type": "stream",
     "name": "stdout",
     "text": "a\n(1, 'b', 2)\n(2, 'c', 3)\n"
    }
   ],
   "source": [
    "print(mytup[0])\n",
    "print(mytup[1:4])\n",
    "print(mytup[-3:])"
   ]
  },
  {
   "cell_type": "markdown",
   "metadata": {},
   "source": [
    "# Dictioaries\n",
    "key value pair"
   ]
  },
  {
   "cell_type": "code",
   "execution_count": 50,
   "metadata": {},
   "outputs": [
    {
     "output_type": "stream",
     "name": "stdout",
     "text": "{'a': 1, 'b': 2, 'c': 3, 'd': 4}\n3\n"
    }
   ],
   "source": [
    "mydict = {'a':1,'b':2,'c':3,'d':4}\n",
    "print(mydict)\n",
    "# print value corresponds to the key\n",
    "print(mydict['c'])\n"
   ]
  },
  {
   "cell_type": "code",
   "execution_count": 51,
   "metadata": {},
   "outputs": [
    {
     "output_type": "execute_result",
     "data": {
      "text/plain": "4"
     },
     "metadata": {},
     "execution_count": 51
    }
   ],
   "source": [
    "len(mydict)"
   ]
  },
  {
   "cell_type": "code",
   "execution_count": 54,
   "metadata": {},
   "outputs": [
    {
     "output_type": "execute_result",
     "data": {
      "text/plain": "{'Bubbles': [9, 'sweet'],\n 'Blossom': [10, 'leader'],\n 'Buttercup': [11, 'tomboy']}"
     },
     "metadata": {},
     "execution_count": 54
    }
   ],
   "source": [
    "mydict2 = {}\n",
    "mydict2['Bubbles'] = [9, 'sweet']\n",
    "mydict2['Blossom'] = [10, 'leader']\n",
    "mydict2['Buttercup'] = [11, 'tomboy']\n",
    "mydict2"
   ]
  },
  {
   "cell_type": "code",
   "execution_count": 55,
   "metadata": {},
   "outputs": [
    {
     "output_type": "execute_result",
     "data": {
      "text/plain": "dict_keys(['Bubbles', 'Blossom', 'Buttercup'])"
     },
     "metadata": {},
     "execution_count": 55
    }
   ],
   "source": [
    "mydict2.keys() "
   ]
  },
  {
   "cell_type": "code",
   "execution_count": 56,
   "metadata": {},
   "outputs": [
    {
     "output_type": "execute_result",
     "data": {
      "text/plain": "{'dad': 'homer', 'mom': 'marge', 'size': 6}"
     },
     "metadata": {},
     "execution_count": 56
    }
   ],
   "source": [
    "# convert a list of tuples into a dictionary\n",
    "list_of_tuples = [('dad', 'homer'), ('mom', 'marge'), ('size', 6)]\n",
    "family = dict(list_of_tuples)\n",
    "family"
   ]
  },
  {
   "cell_type": "code",
   "execution_count": 57,
   "metadata": {},
   "outputs": [
    {
     "output_type": "execute_result",
     "data": {
      "text/plain": "{'dad': 'homer', 'mom': 'marge', 'size': 6, 'cat': 'snowball'}"
     },
     "metadata": {},
     "execution_count": 57
    }
   ],
   "source": [
    "# add a new entry\n",
    "family['cat'] = 'snowball'\n",
    "family"
   ]
  },
  {
   "cell_type": "markdown",
   "metadata": {},
   "source": [
    "# Sets"
   ]
  },
  {
   "cell_type": "code",
   "execution_count": 52,
   "metadata": {},
   "outputs": [
    {
     "output_type": "stream",
     "name": "stdout",
     "text": "{'f', 'g', 'a', 's', 'd'}\n"
    }
   ],
   "source": [
    "myset = {'a','s','d','f','g','f','a'}\n",
    "print(myset)"
   ]
  },
  {
   "cell_type": "markdown",
   "metadata": {},
   "source": [
    "# Conditional Statements"
   ]
  },
  {
   "cell_type": "code",
   "execution_count": 3,
   "metadata": {},
   "outputs": [
    {
     "output_type": "stream",
     "name": "stdout",
     "text": "11 is greater than 10 !\n"
    }
   ],
   "source": [
    "a = 11\n",
    "if(a<10): print(a,'is less than 10 !')\n",
    "elif(a==10): print('Equals to 10')\n",
    "else : print(a,'is greater than 10 !')"
   ]
  },
  {
   "cell_type": "markdown",
   "metadata": {},
   "source": [
    "# Loops"
   ]
  },
  {
   "cell_type": "code",
   "execution_count": 16,
   "metadata": {},
   "outputs": [
    {
     "output_type": "stream",
     "name": "stdout",
     "text": "Hi prash, please cone to my party on sunday\nHi amith, please cone to my party on sunday\nHi sree, please cone to my party on sunday\nHi sandy, please cone to my party on sunday\nHi yeshwa, please cone to my party on sunday\nHi viki, please cone to my party on sunday\n"
    }
   ],
   "source": [
    "names = ['prash','amith','sree','sandy','yeshwa','viki']\n",
    "for name in names:\n",
    "    invite = \"Hi \" + name + \", please cone to my party on sunday\"\n",
    "    print(invite)"
   ]
  },
  {
   "cell_type": "code",
   "execution_count": 6,
   "metadata": {},
   "outputs": [
    {
     "output_type": "stream",
     "name": "stdout",
     "text": "20\n40\n60\n80\n100\n"
    }
   ],
   "source": [
    "l = [2,4,6,8,10]\n",
    "for i in l:\n",
    "    print(10*i)    "
   ]
  },
  {
   "cell_type": "markdown",
   "metadata": {},
   "source": [
    "# While"
   ]
  },
  {
   "cell_type": "code",
   "execution_count": 9,
   "metadata": {},
   "outputs": [
    {
     "output_type": "stream",
     "name": "stdout",
     "text": "Hello\nHello\nHello\nHello\nHello\nHello\nHello\nHello\nHello\nHello\n"
    }
   ],
   "source": [
    "count = 1\n",
    "while(count<=10):\n",
    "    print('Hello')\n",
    "    count+=1"
   ]
  },
  {
   "cell_type": "markdown",
   "metadata": {},
   "source": [
    "# Nested Loop"
   ]
  },
  {
   "cell_type": "code",
   "execution_count": 14,
   "metadata": {},
   "outputs": [
    {
     "output_type": "stream",
     "name": "stdout",
     "text": "The List : \n [11, 22, 33, 44, 55, 66, 77, 88, 99, 110, 121, 132, 143, 154, 165, 176, 187, 198, 209, 220, 231, 242, 253, 264, 275, 286, 297, 308, 319, 330, 341, 352, 363, 374, 385, 396, 407, 418, 429, 440, 451, 462, 473, 484, 495, 506, 517, 528, 539, 550, 561, 572, 583, 594, 605, 616, 627, 638, 649, 660, 671, 682, 693, 704, 715, 726, 737, 748, 759, 770, 781, 792, 803, 814, 825, 836, 847, 858, 869, 880, 891, 902, 913, 924, 935, 946, 957, 968, 979, 990]\n\nCount of nos between 1 to 1000 which are divisible by 11 :  90\n"
    }
   ],
   "source": [
    "# count of nos between 1 to 1000 which are divisible by 11\n",
    "l=[]\n",
    "for i in range(1,1001):\n",
    "    if(i%11==0):\n",
    "        l.append(i)\n",
    "print(\"The List : \\n\",l)\n",
    "print(\"\\nCount of nos between 1 to 1000 which are divisible by 11 : \", len(l))"
   ]
  },
  {
   "cell_type": "markdown",
   "metadata": {},
   "source": [
    "# Functions"
   ]
  },
  {
   "cell_type": "code",
   "execution_count": 15,
   "metadata": {},
   "outputs": [],
   "source": [
    "def good_morning():\n",
    "    print(\"Good morning\")"
   ]
  },
  {
   "cell_type": "code",
   "execution_count": 24,
   "metadata": {},
   "outputs": [
    {
     "output_type": "stream",
     "name": "stdout",
     "text": "Good morning\nprash\nGood morning\namith\nGood morning\nsree\nGood morning\nsandy\nGood morning\nyeshwa\nGood morning\nviki\n"
    }
   ],
   "source": [
    "for name in names :\n",
    "    good_morning(),print(name)"
   ]
  },
  {
   "cell_type": "code",
   "execution_count": 25,
   "metadata": {},
   "outputs": [],
   "source": [
    "def add(a,b):\n",
    "    return(a+b)\n",
    "def sub(a,b):\n",
    "    return(a-b)\n",
    "def mul(a,b):\n",
    "    return(a*b)\n",
    "def div(a,b):\n",
    "    return(a/b)"
   ]
  },
  {
   "cell_type": "code",
   "execution_count": 27,
   "metadata": {},
   "outputs": [
    {
     "output_type": "stream",
     "name": "stdout",
     "text": "Add :  7\nSub :  -3\nMul :  10\nDiv :  0.4\n"
    }
   ],
   "source": [
    "x = 2\n",
    "y = 5\n",
    "print(\"Add : \",add(x,y))\n",
    "print(\"Sub : \",sub(x,y))\n",
    "print(\"Mul : \",mul(x,y))\n",
    "print(\"Div : \",div(x,y))"
   ]
  },
  {
   "cell_type": "markdown",
   "metadata": {},
   "source": [
    "# Lambda Fn"
   ]
  },
  {
   "cell_type": "code",
   "execution_count": 34,
   "metadata": {},
   "outputs": [],
   "source": [
    "# fn name = lambda arguments : content\n",
    "l_add = lambda x,y : x+y"
   ]
  },
  {
   "cell_type": "code",
   "execution_count": 35,
   "metadata": {},
   "outputs": [
    {
     "output_type": "execute_result",
     "data": {
      "text/plain": "5"
     },
     "metadata": {},
     "execution_count": 35
    }
   ],
   "source": [
    "l_add(2,3)"
   ]
  },
  {
   "cell_type": "markdown",
   "metadata": {},
   "source": [
    "# Filters"
   ]
  },
  {
   "cell_type": "code",
   "execution_count": 38,
   "metadata": {},
   "outputs": [
    {
     "output_type": "stream",
     "name": "stdout",
     "text": "[2, 12, 34, 22, 100]\n"
    }
   ],
   "source": [
    "# filter(function,value)\n",
    "f_li = [2,1,3,12,34,22,11,13,133,53,99,100]\n",
    "final_li = list(filter(lambda x : (x%2==0),f_li))\n",
    "print(final_li)"
   ]
  },
  {
   "cell_type": "markdown",
   "metadata": {},
   "source": [
    "# Map"
   ]
  },
  {
   "cell_type": "code",
   "execution_count": 39,
   "metadata": {},
   "outputs": [
    {
     "output_type": "stream",
     "name": "stdout",
     "text": "[20, 0, 30, 40, 0, 90]\n"
    }
   ],
   "source": [
    "# map(function,value)\n",
    "m_li = [2,0,3,4,0,9]\n",
    "out = list(map(lambda var : (var*10),m_li))\n",
    "print(out)"
   ]
  },
  {
   "cell_type": "markdown",
   "metadata": {},
   "source": [
    "# Reducer"
   ]
  },
  {
   "cell_type": "code",
   "execution_count": 41,
   "metadata": {},
   "outputs": [
    {
     "output_type": "stream",
     "name": "stdout",
     "text": "10\n"
    }
   ],
   "source": [
    "# lib.reducer(function,value)\n",
    "import functools as f\n",
    "import operator as o\n",
    "li = [1,2,3,4]\n",
    "sum=f.reduce(o.add,li)\n",
    "print(sum)\n"
   ]
  },
  {
   "cell_type": "markdown",
   "metadata": {},
   "source": [
    "# Accumulator"
   ]
  },
  {
   "cell_type": "code",
   "execution_count": 44,
   "metadata": {},
   "outputs": [
    {
     "output_type": "stream",
     "name": "stdout",
     "text": "accumulated list : [1, 3, 6, 10, 15]\n"
    }
   ],
   "source": [
    "# lib.accumulator(value,function)\n",
    "import itertools as i\n",
    "lis = [1,2,3,4,5]\n",
    "print(\"accumulated list : \",end=\"\")\n",
    "print(list(i.accumulate(lis,lambda x,y : x+y )))"
   ]
  },
  {
   "cell_type": "code",
   "execution_count": null,
   "metadata": {},
   "outputs": [],
   "source": []
  }
 ],
 "metadata": {
  "language_info": {
   "codemirror_mode": {
    "name": "ipython",
    "version": 3
   },
   "file_extension": ".py",
   "mimetype": "text/x-python",
   "name": "python",
   "nbconvert_exporter": "python",
   "pygments_lexer": "ipython3",
   "version": "3.8.1-final"
  },
  "orig_nbformat": 2,
  "kernelspec": {
   "name": "python38132bit1c1932ad190f4a64a598b72715bbd7e5",
   "display_name": "Python 3.8.1 32-bit"
  }
 },
 "nbformat": 4,
 "nbformat_minor": 2
}